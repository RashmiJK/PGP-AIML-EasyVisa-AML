{
  "cells": [
    {
      "cell_type": "markdown",
      "id": "yZvo8CHcetWN",
      "metadata": {
        "id": "yZvo8CHcetWN"
      },
      "source": [
        "## Problem Statement"
      ]
    },
    {
      "cell_type": "markdown",
      "id": "cdq4cea5Akh8",
      "metadata": {
        "id": "cdq4cea5Akh8"
      },
      "source": [
        "In FY 2016, the OFLC processed 775,979 employer applications for 1,699,957 positions for temporary and permanent labor certifications. This was a nine percent increase in the overall number of processed applications from the previous year. The process of reviewing every case is becoming a tedious task as the number of applicants is increasing every year.\n",
        "\n",
        "The increasing number of applicants every year calls for a Machine Learning based solution that can help in shortlisting the candidates having higher chances of VISA approval. OFLC has hired the firm EasyVisa for data-driven solutions. You as a data  scientist at EasyVisa have to analyze the data provided and, with the help of a classification model:\n",
        "\n",
        "* Facilitate the process of visa approvals.\n",
        "* Recommend a suitable profile for the applicants for whom the visa should be certified or denied based on the drivers that significantly influence the case status."
      ]
    },
    {
      "cell_type": "markdown",
      "id": "LpNqj6EzAhxy",
      "metadata": {
        "id": "LpNqj6EzAhxy"
      },
      "source": [
        "### Data Description"
      ]
    },
    {
      "cell_type": "markdown",
      "id": "uae5fMIyAnd-",
      "metadata": {
        "id": "uae5fMIyAnd-"
      },
      "source": [
        "The data contains the different attributes of employee and the employer. The detailed data dictionary is given below.\n",
        "\n",
        "* case_id: ID of each visa application\n",
        "* continent: Information of continent the employee\n",
        "* education_of_employee: Information of education of the employee\n",
        "* has_job_experience: Does the employee has any job experience? Y = Yes; N = No\n",
        "* requires_job_training: Does the employee require any job training? Y = Yes; N = No\n",
        "* no_of_employees: Number of employees in the employer's company\n",
        "* yr_of_estab: Year in which the employer's company was established\n",
        "* region_of_employment: Information of foreign worker's intended region of employment in the US.\n",
        "* prevailing_wage:  Average wage paid to similarly employed workers in a specific occupation in the area of intended employment. The purpose of the prevailing wage is to ensure that the foreign worker is not underpaid compared to other workers offering the same or similar service in the same area of employment.\n",
        "* unit_of_wage: Unit of prevailing wage. Values include Hourly, Weekly, Monthly, and Yearly.\n",
        "* full_time_position: Is the position of work full-time? Y = Full Time Position; N = Part Time Position\n",
        "* case_status:  Flag indicating if the Visa was certified or denied"
      ]
    },
    {
      "cell_type": "markdown",
      "id": "Lm7obbsV_RUT",
      "metadata": {
        "id": "Lm7obbsV_RUT"
      },
      "source": [
        "## 1 - Installing and Importing the necessary libraries"
      ]
    },
    {
      "cell_type": "markdown",
      "source": [
        "This task is a classification problem, where we will build and evaluate various machine learning models to predict visa approval status.\n",
        "\n",
        "**Instruction**:\n",
        "Restart the runtime after installing libraries to ensure correct package versions and ignore dependency warnings."
      ],
      "metadata": {
        "id": "N3nobPNtbJ0D"
      },
      "id": "N3nobPNtbJ0D"
    },
    {
      "cell_type": "code",
      "execution_count": 1,
      "id": "6IOeGuQTMQXd",
      "metadata": {
        "id": "6IOeGuQTMQXd",
        "colab": {
          "base_uri": "https://localhost:8080/"
        },
        "outputId": "4dc6b522-931c-4288-f327-ba10014d138e"
      },
      "outputs": [
        {
          "output_type": "stream",
          "name": "stdout",
          "text": [
            "\u001b[2K   \u001b[90m━━━━━━━━━━━━━━━━━━━━━━━━━━━━━━━━━━━━━━━━\u001b[0m \u001b[32m223.6/223.6 MB\u001b[0m \u001b[31m2.1 MB/s\u001b[0m eta \u001b[36m0:00:00\u001b[0m\n",
            "\u001b[?25h"
          ]
        }
      ],
      "source": [
        "!pip install pandas==2.2.2 numpy==2.0.2 matplotlib==3.10.0 seaborn==0.13.2 scikit-learn==1.6.1 xgboost==2.1.4 -q"
      ]
    },
    {
      "cell_type": "code",
      "execution_count": 1,
      "id": "canadian-maple",
      "metadata": {
        "id": "canadian-maple"
      },
      "outputs": [],
      "source": [
        "# Libraries to help with reading and manipulating data\n",
        "import numpy as np\n",
        "import pandas as pd\n",
        "\n",
        "# libaries to help with data visualization\n",
        "import matplotlib.pyplot as plt\n",
        "import seaborn as sns\n",
        "\n",
        "# Libraries to get different metric scores\n",
        "from sklearn import metrics\n",
        "from sklearn.metrics import (\n",
        "    confusion_matrix,\n",
        "    accuracy_score,\n",
        "    precision_score,\n",
        "    recall_score,\n",
        "    f1_score,\n",
        ")\n",
        "\n",
        "# Library to split data\n",
        "from sklearn.model_selection import train_test_split, StratifiedKFold, cross_val_score\n",
        "\n",
        "# To oversample and undersample data\n",
        "from imblearn.over_sampling import SMOTE\n",
        "from imblearn.under_sampling import RandomUnderSampler\n",
        "\n",
        "# To help with the model building\n",
        "from xgboost import XGBClassifier\n",
        "from sklearn.tree import DecisionTreeClassifier\n",
        "# For ensemble models\n",
        "from sklearn.ensemble import (\n",
        "    BaggingClassifier,\n",
        "    RandomForestClassifier,\n",
        "    AdaBoostClassifier,\n",
        "    GradientBoostingClassifier\n",
        ")\n",
        "\n",
        "# For hyperparameter tuning\n",
        "from sklearn.model_selection import RandomizedSearchCV\n",
        "\n",
        "# Removes the limit for the number of displayed columns\n",
        "pd.set_option(\"display.max_columns\", None)\n",
        "# Sets the limit for the number of displayed rows\n",
        "pd.set_option(\"display.max_rows\", 100)\n",
        "\n",
        "# To suppress warnings\n",
        "import warnings\n",
        "warnings.filterwarnings(\"ignore\")"
      ]
    },
    {
      "cell_type": "markdown",
      "id": "thorough-passion",
      "metadata": {
        "id": "thorough-passion"
      },
      "source": [
        "## 2 - Import Dataset"
      ]
    },
    {
      "cell_type": "code",
      "execution_count": 2,
      "id": "kqF861_Ch2ea",
      "metadata": {
        "id": "kqF861_Ch2ea",
        "colab": {
          "base_uri": "https://localhost:8080/"
        },
        "outputId": "dbc7211e-a0e7-4ee3-e792-bcb5d1e65c62"
      },
      "outputs": [
        {
          "output_type": "stream",
          "name": "stdout",
          "text": [
            "Mounted at /content/drive\n"
          ]
        }
      ],
      "source": [
        "# Mount drive\n",
        "from google.colab import drive\n",
        "drive.mount('/content/drive')"
      ]
    },
    {
      "cell_type": "code",
      "execution_count": 3,
      "id": "alleged-teaching",
      "metadata": {
        "id": "alleged-teaching"
      },
      "outputs": [],
      "source": [
        "visa = pd.read_csv('/content/drive/MyDrive/Colab Notebooks/Project-3/EasyVisa.csv')"
      ]
    },
    {
      "cell_type": "code",
      "execution_count": 4,
      "id": "falling-annual",
      "metadata": {
        "id": "falling-annual"
      },
      "outputs": [],
      "source": [
        "# Make a copy of data and preserve the original\n",
        "data = visa.copy()"
      ]
    },
    {
      "cell_type": "markdown",
      "id": "mq-1s9p-_aKl",
      "metadata": {
        "id": "mq-1s9p-_aKl"
      },
      "source": [
        "## 3 - Data Overview"
      ]
    },
    {
      "cell_type": "markdown",
      "id": "aboriginal-wrist",
      "metadata": {
        "id": "aboriginal-wrist"
      },
      "source": [
        "#### 3.1 - View sample rows of the dataset"
      ]
    },
    {
      "cell_type": "code",
      "execution_count": 5,
      "id": "judicial-lease",
      "metadata": {
        "id": "judicial-lease",
        "colab": {
          "base_uri": "https://localhost:8080/",
          "height": 224
        },
        "outputId": "7912211d-528f-456c-ce04-c6ad1afc9e0a"
      },
      "outputs": [
        {
          "output_type": "execute_result",
          "data": {
            "text/plain": [
              "  case_id continent education_of_employee has_job_experience  \\\n",
              "0  EZYV01      Asia           High School                  N   \n",
              "1  EZYV02      Asia              Master's                  Y   \n",
              "2  EZYV03      Asia            Bachelor's                  N   \n",
              "3  EZYV04      Asia            Bachelor's                  N   \n",
              "4  EZYV05    Africa              Master's                  Y   \n",
              "\n",
              "  requires_job_training  no_of_employees  yr_of_estab region_of_employment  \\\n",
              "0                     N            14513         2007                 West   \n",
              "1                     N             2412         2002            Northeast   \n",
              "2                     Y            44444         2008                 West   \n",
              "3                     N               98         1897                 West   \n",
              "4                     N             1082         2005                South   \n",
              "\n",
              "   prevailing_wage unit_of_wage full_time_position case_status  \n",
              "0         592.2029         Hour                  Y      Denied  \n",
              "1       83425.6500         Year                  Y   Certified  \n",
              "2      122996.8600         Year                  Y      Denied  \n",
              "3       83434.0300         Year                  Y      Denied  \n",
              "4      149907.3900         Year                  Y   Certified  "
            ],
            "text/html": [
              "\n",
              "  <div id=\"df-32d3b4d3-6eb8-4d27-a7a6-a0fc70e2205d\" class=\"colab-df-container\">\n",
              "    <div>\n",
              "<style scoped>\n",
              "    .dataframe tbody tr th:only-of-type {\n",
              "        vertical-align: middle;\n",
              "    }\n",
              "\n",
              "    .dataframe tbody tr th {\n",
              "        vertical-align: top;\n",
              "    }\n",
              "\n",
              "    .dataframe thead th {\n",
              "        text-align: right;\n",
              "    }\n",
              "</style>\n",
              "<table border=\"1\" class=\"dataframe\">\n",
              "  <thead>\n",
              "    <tr style=\"text-align: right;\">\n",
              "      <th></th>\n",
              "      <th>case_id</th>\n",
              "      <th>continent</th>\n",
              "      <th>education_of_employee</th>\n",
              "      <th>has_job_experience</th>\n",
              "      <th>requires_job_training</th>\n",
              "      <th>no_of_employees</th>\n",
              "      <th>yr_of_estab</th>\n",
              "      <th>region_of_employment</th>\n",
              "      <th>prevailing_wage</th>\n",
              "      <th>unit_of_wage</th>\n",
              "      <th>full_time_position</th>\n",
              "      <th>case_status</th>\n",
              "    </tr>\n",
              "  </thead>\n",
              "  <tbody>\n",
              "    <tr>\n",
              "      <th>0</th>\n",
              "      <td>EZYV01</td>\n",
              "      <td>Asia</td>\n",
              "      <td>High School</td>\n",
              "      <td>N</td>\n",
              "      <td>N</td>\n",
              "      <td>14513</td>\n",
              "      <td>2007</td>\n",
              "      <td>West</td>\n",
              "      <td>592.2029</td>\n",
              "      <td>Hour</td>\n",
              "      <td>Y</td>\n",
              "      <td>Denied</td>\n",
              "    </tr>\n",
              "    <tr>\n",
              "      <th>1</th>\n",
              "      <td>EZYV02</td>\n",
              "      <td>Asia</td>\n",
              "      <td>Master's</td>\n",
              "      <td>Y</td>\n",
              "      <td>N</td>\n",
              "      <td>2412</td>\n",
              "      <td>2002</td>\n",
              "      <td>Northeast</td>\n",
              "      <td>83425.6500</td>\n",
              "      <td>Year</td>\n",
              "      <td>Y</td>\n",
              "      <td>Certified</td>\n",
              "    </tr>\n",
              "    <tr>\n",
              "      <th>2</th>\n",
              "      <td>EZYV03</td>\n",
              "      <td>Asia</td>\n",
              "      <td>Bachelor's</td>\n",
              "      <td>N</td>\n",
              "      <td>Y</td>\n",
              "      <td>44444</td>\n",
              "      <td>2008</td>\n",
              "      <td>West</td>\n",
              "      <td>122996.8600</td>\n",
              "      <td>Year</td>\n",
              "      <td>Y</td>\n",
              "      <td>Denied</td>\n",
              "    </tr>\n",
              "    <tr>\n",
              "      <th>3</th>\n",
              "      <td>EZYV04</td>\n",
              "      <td>Asia</td>\n",
              "      <td>Bachelor's</td>\n",
              "      <td>N</td>\n",
              "      <td>N</td>\n",
              "      <td>98</td>\n",
              "      <td>1897</td>\n",
              "      <td>West</td>\n",
              "      <td>83434.0300</td>\n",
              "      <td>Year</td>\n",
              "      <td>Y</td>\n",
              "      <td>Denied</td>\n",
              "    </tr>\n",
              "    <tr>\n",
              "      <th>4</th>\n",
              "      <td>EZYV05</td>\n",
              "      <td>Africa</td>\n",
              "      <td>Master's</td>\n",
              "      <td>Y</td>\n",
              "      <td>N</td>\n",
              "      <td>1082</td>\n",
              "      <td>2005</td>\n",
              "      <td>South</td>\n",
              "      <td>149907.3900</td>\n",
              "      <td>Year</td>\n",
              "      <td>Y</td>\n",
              "      <td>Certified</td>\n",
              "    </tr>\n",
              "  </tbody>\n",
              "</table>\n",
              "</div>\n",
              "    <div class=\"colab-df-buttons\">\n",
              "\n",
              "  <div class=\"colab-df-container\">\n",
              "    <button class=\"colab-df-convert\" onclick=\"convertToInteractive('df-32d3b4d3-6eb8-4d27-a7a6-a0fc70e2205d')\"\n",
              "            title=\"Convert this dataframe to an interactive table.\"\n",
              "            style=\"display:none;\">\n",
              "\n",
              "  <svg xmlns=\"http://www.w3.org/2000/svg\" height=\"24px\" viewBox=\"0 -960 960 960\">\n",
              "    <path d=\"M120-120v-720h720v720H120Zm60-500h600v-160H180v160Zm220 220h160v-160H400v160Zm0 220h160v-160H400v160ZM180-400h160v-160H180v160Zm440 0h160v-160H620v160ZM180-180h160v-160H180v160Zm440 0h160v-160H620v160Z\"/>\n",
              "  </svg>\n",
              "    </button>\n",
              "\n",
              "  <style>\n",
              "    .colab-df-container {\n",
              "      display:flex;\n",
              "      gap: 12px;\n",
              "    }\n",
              "\n",
              "    .colab-df-convert {\n",
              "      background-color: #E8F0FE;\n",
              "      border: none;\n",
              "      border-radius: 50%;\n",
              "      cursor: pointer;\n",
              "      display: none;\n",
              "      fill: #1967D2;\n",
              "      height: 32px;\n",
              "      padding: 0 0 0 0;\n",
              "      width: 32px;\n",
              "    }\n",
              "\n",
              "    .colab-df-convert:hover {\n",
              "      background-color: #E2EBFA;\n",
              "      box-shadow: 0px 1px 2px rgba(60, 64, 67, 0.3), 0px 1px 3px 1px rgba(60, 64, 67, 0.15);\n",
              "      fill: #174EA6;\n",
              "    }\n",
              "\n",
              "    .colab-df-buttons div {\n",
              "      margin-bottom: 4px;\n",
              "    }\n",
              "\n",
              "    [theme=dark] .colab-df-convert {\n",
              "      background-color: #3B4455;\n",
              "      fill: #D2E3FC;\n",
              "    }\n",
              "\n",
              "    [theme=dark] .colab-df-convert:hover {\n",
              "      background-color: #434B5C;\n",
              "      box-shadow: 0px 1px 3px 1px rgba(0, 0, 0, 0.15);\n",
              "      filter: drop-shadow(0px 1px 2px rgba(0, 0, 0, 0.3));\n",
              "      fill: #FFFFFF;\n",
              "    }\n",
              "  </style>\n",
              "\n",
              "    <script>\n",
              "      const buttonEl =\n",
              "        document.querySelector('#df-32d3b4d3-6eb8-4d27-a7a6-a0fc70e2205d button.colab-df-convert');\n",
              "      buttonEl.style.display =\n",
              "        google.colab.kernel.accessAllowed ? 'block' : 'none';\n",
              "\n",
              "      async function convertToInteractive(key) {\n",
              "        const element = document.querySelector('#df-32d3b4d3-6eb8-4d27-a7a6-a0fc70e2205d');\n",
              "        const dataTable =\n",
              "          await google.colab.kernel.invokeFunction('convertToInteractive',\n",
              "                                                    [key], {});\n",
              "        if (!dataTable) return;\n",
              "\n",
              "        const docLinkHtml = 'Like what you see? Visit the ' +\n",
              "          '<a target=\"_blank\" href=https://colab.research.google.com/notebooks/data_table.ipynb>data table notebook</a>'\n",
              "          + ' to learn more about interactive tables.';\n",
              "        element.innerHTML = '';\n",
              "        dataTable['output_type'] = 'display_data';\n",
              "        await google.colab.output.renderOutput(dataTable, element);\n",
              "        const docLink = document.createElement('div');\n",
              "        docLink.innerHTML = docLinkHtml;\n",
              "        element.appendChild(docLink);\n",
              "      }\n",
              "    </script>\n",
              "  </div>\n",
              "\n",
              "\n",
              "    <div id=\"df-6e3b2963-83c2-4195-a975-e6f9c224083e\">\n",
              "      <button class=\"colab-df-quickchart\" onclick=\"quickchart('df-6e3b2963-83c2-4195-a975-e6f9c224083e')\"\n",
              "                title=\"Suggest charts\"\n",
              "                style=\"display:none;\">\n",
              "\n",
              "<svg xmlns=\"http://www.w3.org/2000/svg\" height=\"24px\"viewBox=\"0 0 24 24\"\n",
              "     width=\"24px\">\n",
              "    <g>\n",
              "        <path d=\"M19 3H5c-1.1 0-2 .9-2 2v14c0 1.1.9 2 2 2h14c1.1 0 2-.9 2-2V5c0-1.1-.9-2-2-2zM9 17H7v-7h2v7zm4 0h-2V7h2v10zm4 0h-2v-4h2v4z\"/>\n",
              "    </g>\n",
              "</svg>\n",
              "      </button>\n",
              "\n",
              "<style>\n",
              "  .colab-df-quickchart {\n",
              "      --bg-color: #E8F0FE;\n",
              "      --fill-color: #1967D2;\n",
              "      --hover-bg-color: #E2EBFA;\n",
              "      --hover-fill-color: #174EA6;\n",
              "      --disabled-fill-color: #AAA;\n",
              "      --disabled-bg-color: #DDD;\n",
              "  }\n",
              "\n",
              "  [theme=dark] .colab-df-quickchart {\n",
              "      --bg-color: #3B4455;\n",
              "      --fill-color: #D2E3FC;\n",
              "      --hover-bg-color: #434B5C;\n",
              "      --hover-fill-color: #FFFFFF;\n",
              "      --disabled-bg-color: #3B4455;\n",
              "      --disabled-fill-color: #666;\n",
              "  }\n",
              "\n",
              "  .colab-df-quickchart {\n",
              "    background-color: var(--bg-color);\n",
              "    border: none;\n",
              "    border-radius: 50%;\n",
              "    cursor: pointer;\n",
              "    display: none;\n",
              "    fill: var(--fill-color);\n",
              "    height: 32px;\n",
              "    padding: 0;\n",
              "    width: 32px;\n",
              "  }\n",
              "\n",
              "  .colab-df-quickchart:hover {\n",
              "    background-color: var(--hover-bg-color);\n",
              "    box-shadow: 0 1px 2px rgba(60, 64, 67, 0.3), 0 1px 3px 1px rgba(60, 64, 67, 0.15);\n",
              "    fill: var(--button-hover-fill-color);\n",
              "  }\n",
              "\n",
              "  .colab-df-quickchart-complete:disabled,\n",
              "  .colab-df-quickchart-complete:disabled:hover {\n",
              "    background-color: var(--disabled-bg-color);\n",
              "    fill: var(--disabled-fill-color);\n",
              "    box-shadow: none;\n",
              "  }\n",
              "\n",
              "  .colab-df-spinner {\n",
              "    border: 2px solid var(--fill-color);\n",
              "    border-color: transparent;\n",
              "    border-bottom-color: var(--fill-color);\n",
              "    animation:\n",
              "      spin 1s steps(1) infinite;\n",
              "  }\n",
              "\n",
              "  @keyframes spin {\n",
              "    0% {\n",
              "      border-color: transparent;\n",
              "      border-bottom-color: var(--fill-color);\n",
              "      border-left-color: var(--fill-color);\n",
              "    }\n",
              "    20% {\n",
              "      border-color: transparent;\n",
              "      border-left-color: var(--fill-color);\n",
              "      border-top-color: var(--fill-color);\n",
              "    }\n",
              "    30% {\n",
              "      border-color: transparent;\n",
              "      border-left-color: var(--fill-color);\n",
              "      border-top-color: var(--fill-color);\n",
              "      border-right-color: var(--fill-color);\n",
              "    }\n",
              "    40% {\n",
              "      border-color: transparent;\n",
              "      border-right-color: var(--fill-color);\n",
              "      border-top-color: var(--fill-color);\n",
              "    }\n",
              "    60% {\n",
              "      border-color: transparent;\n",
              "      border-right-color: var(--fill-color);\n",
              "    }\n",
              "    80% {\n",
              "      border-color: transparent;\n",
              "      border-right-color: var(--fill-color);\n",
              "      border-bottom-color: var(--fill-color);\n",
              "    }\n",
              "    90% {\n",
              "      border-color: transparent;\n",
              "      border-bottom-color: var(--fill-color);\n",
              "    }\n",
              "  }\n",
              "</style>\n",
              "\n",
              "      <script>\n",
              "        async function quickchart(key) {\n",
              "          const quickchartButtonEl =\n",
              "            document.querySelector('#' + key + ' button');\n",
              "          quickchartButtonEl.disabled = true;  // To prevent multiple clicks.\n",
              "          quickchartButtonEl.classList.add('colab-df-spinner');\n",
              "          try {\n",
              "            const charts = await google.colab.kernel.invokeFunction(\n",
              "                'suggestCharts', [key], {});\n",
              "          } catch (error) {\n",
              "            console.error('Error during call to suggestCharts:', error);\n",
              "          }\n",
              "          quickchartButtonEl.classList.remove('colab-df-spinner');\n",
              "          quickchartButtonEl.classList.add('colab-df-quickchart-complete');\n",
              "        }\n",
              "        (() => {\n",
              "          let quickchartButtonEl =\n",
              "            document.querySelector('#df-6e3b2963-83c2-4195-a975-e6f9c224083e button');\n",
              "          quickchartButtonEl.style.display =\n",
              "            google.colab.kernel.accessAllowed ? 'block' : 'none';\n",
              "        })();\n",
              "      </script>\n",
              "    </div>\n",
              "\n",
              "    </div>\n",
              "  </div>\n"
            ],
            "application/vnd.google.colaboratory.intrinsic+json": {
              "type": "dataframe",
              "variable_name": "data",
              "summary": "{\n  \"name\": \"data\",\n  \"rows\": 25480,\n  \"fields\": [\n    {\n      \"column\": \"case_id\",\n      \"properties\": {\n        \"dtype\": \"string\",\n        \"num_unique_values\": 25480,\n        \"samples\": [\n          \"EZYV16746\",\n          \"EZYV9527\",\n          \"EZYV8359\"\n        ],\n        \"semantic_type\": \"\",\n        \"description\": \"\"\n      }\n    },\n    {\n      \"column\": \"continent\",\n      \"properties\": {\n        \"dtype\": \"category\",\n        \"num_unique_values\": 6,\n        \"samples\": [\n          \"Asia\",\n          \"Africa\",\n          \"Oceania\"\n        ],\n        \"semantic_type\": \"\",\n        \"description\": \"\"\n      }\n    },\n    {\n      \"column\": \"education_of_employee\",\n      \"properties\": {\n        \"dtype\": \"category\",\n        \"num_unique_values\": 4,\n        \"samples\": [\n          \"Master's\",\n          \"Doctorate\",\n          \"High School\"\n        ],\n        \"semantic_type\": \"\",\n        \"description\": \"\"\n      }\n    },\n    {\n      \"column\": \"has_job_experience\",\n      \"properties\": {\n        \"dtype\": \"category\",\n        \"num_unique_values\": 2,\n        \"samples\": [\n          \"Y\",\n          \"N\"\n        ],\n        \"semantic_type\": \"\",\n        \"description\": \"\"\n      }\n    },\n    {\n      \"column\": \"requires_job_training\",\n      \"properties\": {\n        \"dtype\": \"category\",\n        \"num_unique_values\": 2,\n        \"samples\": [\n          \"Y\",\n          \"N\"\n        ],\n        \"semantic_type\": \"\",\n        \"description\": \"\"\n      }\n    },\n    {\n      \"column\": \"no_of_employees\",\n      \"properties\": {\n        \"dtype\": \"number\",\n        \"std\": 22877,\n        \"min\": -26,\n        \"max\": 602069,\n        \"num_unique_values\": 7105,\n        \"samples\": [\n          146713,\n          9342\n        ],\n        \"semantic_type\": \"\",\n        \"description\": \"\"\n      }\n    },\n    {\n      \"column\": \"yr_of_estab\",\n      \"properties\": {\n        \"dtype\": \"number\",\n        \"std\": 42,\n        \"min\": 1800,\n        \"max\": 2016,\n        \"num_unique_values\": 199,\n        \"samples\": [\n          1843,\n          1972\n        ],\n        \"semantic_type\": \"\",\n        \"description\": \"\"\n      }\n    },\n    {\n      \"column\": \"region_of_employment\",\n      \"properties\": {\n        \"dtype\": \"category\",\n        \"num_unique_values\": 5,\n        \"samples\": [\n          \"Northeast\",\n          \"Island\"\n        ],\n        \"semantic_type\": \"\",\n        \"description\": \"\"\n      }\n    },\n    {\n      \"column\": \"prevailing_wage\",\n      \"properties\": {\n        \"dtype\": \"number\",\n        \"std\": 52815.94232687357,\n        \"min\": 2.1367,\n        \"max\": 319210.27,\n        \"num_unique_values\": 25454,\n        \"samples\": [\n          44218.42,\n          60458.9\n        ],\n        \"semantic_type\": \"\",\n        \"description\": \"\"\n      }\n    },\n    {\n      \"column\": \"unit_of_wage\",\n      \"properties\": {\n        \"dtype\": \"category\",\n        \"num_unique_values\": 4,\n        \"samples\": [\n          \"Year\",\n          \"Month\"\n        ],\n        \"semantic_type\": \"\",\n        \"description\": \"\"\n      }\n    },\n    {\n      \"column\": \"full_time_position\",\n      \"properties\": {\n        \"dtype\": \"category\",\n        \"num_unique_values\": 2,\n        \"samples\": [\n          \"N\",\n          \"Y\"\n        ],\n        \"semantic_type\": \"\",\n        \"description\": \"\"\n      }\n    },\n    {\n      \"column\": \"case_status\",\n      \"properties\": {\n        \"dtype\": \"category\",\n        \"num_unique_values\": 2,\n        \"samples\": [\n          \"Certified\",\n          \"Denied\"\n        ],\n        \"semantic_type\": \"\",\n        \"description\": \"\"\n      }\n    }\n  ]\n}"
            }
          },
          "metadata": {},
          "execution_count": 5
        }
      ],
      "source": [
        "data.head()"
      ]
    },
    {
      "cell_type": "code",
      "execution_count": 6,
      "id": "descending-david",
      "metadata": {
        "id": "descending-david",
        "colab": {
          "base_uri": "https://localhost:8080/",
          "height": 224
        },
        "outputId": "a9f750c0-2d97-42d3-ed79-760f1b8f0e6c"
      },
      "outputs": [
        {
          "output_type": "execute_result",
          "data": {
            "text/plain": [
              "         case_id continent education_of_employee has_job_experience  \\\n",
              "25475  EZYV25476      Asia            Bachelor's                  Y   \n",
              "25476  EZYV25477      Asia           High School                  Y   \n",
              "25477  EZYV25478      Asia              Master's                  Y   \n",
              "25478  EZYV25479      Asia              Master's                  Y   \n",
              "25479  EZYV25480      Asia            Bachelor's                  Y   \n",
              "\n",
              "      requires_job_training  no_of_employees  yr_of_estab  \\\n",
              "25475                     Y             2601         2008   \n",
              "25476                     N             3274         2006   \n",
              "25477                     N             1121         1910   \n",
              "25478                     Y             1918         1887   \n",
              "25479                     N             3195         1960   \n",
              "\n",
              "      region_of_employment  prevailing_wage unit_of_wage full_time_position  \\\n",
              "25475                South         77092.57         Year                  Y   \n",
              "25476            Northeast        279174.79         Year                  Y   \n",
              "25477                South        146298.85         Year                  N   \n",
              "25478                 West         86154.77         Year                  Y   \n",
              "25479              Midwest         70876.91         Year                  Y   \n",
              "\n",
              "      case_status  \n",
              "25475   Certified  \n",
              "25476   Certified  \n",
              "25477   Certified  \n",
              "25478   Certified  \n",
              "25479   Certified  "
            ],
            "text/html": [
              "\n",
              "  <div id=\"df-bd09a4f3-6f57-41eb-82b9-615fbc0bf0ff\" class=\"colab-df-container\">\n",
              "    <div>\n",
              "<style scoped>\n",
              "    .dataframe tbody tr th:only-of-type {\n",
              "        vertical-align: middle;\n",
              "    }\n",
              "\n",
              "    .dataframe tbody tr th {\n",
              "        vertical-align: top;\n",
              "    }\n",
              "\n",
              "    .dataframe thead th {\n",
              "        text-align: right;\n",
              "    }\n",
              "</style>\n",
              "<table border=\"1\" class=\"dataframe\">\n",
              "  <thead>\n",
              "    <tr style=\"text-align: right;\">\n",
              "      <th></th>\n",
              "      <th>case_id</th>\n",
              "      <th>continent</th>\n",
              "      <th>education_of_employee</th>\n",
              "      <th>has_job_experience</th>\n",
              "      <th>requires_job_training</th>\n",
              "      <th>no_of_employees</th>\n",
              "      <th>yr_of_estab</th>\n",
              "      <th>region_of_employment</th>\n",
              "      <th>prevailing_wage</th>\n",
              "      <th>unit_of_wage</th>\n",
              "      <th>full_time_position</th>\n",
              "      <th>case_status</th>\n",
              "    </tr>\n",
              "  </thead>\n",
              "  <tbody>\n",
              "    <tr>\n",
              "      <th>25475</th>\n",
              "      <td>EZYV25476</td>\n",
              "      <td>Asia</td>\n",
              "      <td>Bachelor's</td>\n",
              "      <td>Y</td>\n",
              "      <td>Y</td>\n",
              "      <td>2601</td>\n",
              "      <td>2008</td>\n",
              "      <td>South</td>\n",
              "      <td>77092.57</td>\n",
              "      <td>Year</td>\n",
              "      <td>Y</td>\n",
              "      <td>Certified</td>\n",
              "    </tr>\n",
              "    <tr>\n",
              "      <th>25476</th>\n",
              "      <td>EZYV25477</td>\n",
              "      <td>Asia</td>\n",
              "      <td>High School</td>\n",
              "      <td>Y</td>\n",
              "      <td>N</td>\n",
              "      <td>3274</td>\n",
              "      <td>2006</td>\n",
              "      <td>Northeast</td>\n",
              "      <td>279174.79</td>\n",
              "      <td>Year</td>\n",
              "      <td>Y</td>\n",
              "      <td>Certified</td>\n",
              "    </tr>\n",
              "    <tr>\n",
              "      <th>25477</th>\n",
              "      <td>EZYV25478</td>\n",
              "      <td>Asia</td>\n",
              "      <td>Master's</td>\n",
              "      <td>Y</td>\n",
              "      <td>N</td>\n",
              "      <td>1121</td>\n",
              "      <td>1910</td>\n",
              "      <td>South</td>\n",
              "      <td>146298.85</td>\n",
              "      <td>Year</td>\n",
              "      <td>N</td>\n",
              "      <td>Certified</td>\n",
              "    </tr>\n",
              "    <tr>\n",
              "      <th>25478</th>\n",
              "      <td>EZYV25479</td>\n",
              "      <td>Asia</td>\n",
              "      <td>Master's</td>\n",
              "      <td>Y</td>\n",
              "      <td>Y</td>\n",
              "      <td>1918</td>\n",
              "      <td>1887</td>\n",
              "      <td>West</td>\n",
              "      <td>86154.77</td>\n",
              "      <td>Year</td>\n",
              "      <td>Y</td>\n",
              "      <td>Certified</td>\n",
              "    </tr>\n",
              "    <tr>\n",
              "      <th>25479</th>\n",
              "      <td>EZYV25480</td>\n",
              "      <td>Asia</td>\n",
              "      <td>Bachelor's</td>\n",
              "      <td>Y</td>\n",
              "      <td>N</td>\n",
              "      <td>3195</td>\n",
              "      <td>1960</td>\n",
              "      <td>Midwest</td>\n",
              "      <td>70876.91</td>\n",
              "      <td>Year</td>\n",
              "      <td>Y</td>\n",
              "      <td>Certified</td>\n",
              "    </tr>\n",
              "  </tbody>\n",
              "</table>\n",
              "</div>\n",
              "    <div class=\"colab-df-buttons\">\n",
              "\n",
              "  <div class=\"colab-df-container\">\n",
              "    <button class=\"colab-df-convert\" onclick=\"convertToInteractive('df-bd09a4f3-6f57-41eb-82b9-615fbc0bf0ff')\"\n",
              "            title=\"Convert this dataframe to an interactive table.\"\n",
              "            style=\"display:none;\">\n",
              "\n",
              "  <svg xmlns=\"http://www.w3.org/2000/svg\" height=\"24px\" viewBox=\"0 -960 960 960\">\n",
              "    <path d=\"M120-120v-720h720v720H120Zm60-500h600v-160H180v160Zm220 220h160v-160H400v160Zm0 220h160v-160H400v160ZM180-400h160v-160H180v160Zm440 0h160v-160H620v160ZM180-180h160v-160H180v160Zm440 0h160v-160H620v160Z\"/>\n",
              "  </svg>\n",
              "    </button>\n",
              "\n",
              "  <style>\n",
              "    .colab-df-container {\n",
              "      display:flex;\n",
              "      gap: 12px;\n",
              "    }\n",
              "\n",
              "    .colab-df-convert {\n",
              "      background-color: #E8F0FE;\n",
              "      border: none;\n",
              "      border-radius: 50%;\n",
              "      cursor: pointer;\n",
              "      display: none;\n",
              "      fill: #1967D2;\n",
              "      height: 32px;\n",
              "      padding: 0 0 0 0;\n",
              "      width: 32px;\n",
              "    }\n",
              "\n",
              "    .colab-df-convert:hover {\n",
              "      background-color: #E2EBFA;\n",
              "      box-shadow: 0px 1px 2px rgba(60, 64, 67, 0.3), 0px 1px 3px 1px rgba(60, 64, 67, 0.15);\n",
              "      fill: #174EA6;\n",
              "    }\n",
              "\n",
              "    .colab-df-buttons div {\n",
              "      margin-bottom: 4px;\n",
              "    }\n",
              "\n",
              "    [theme=dark] .colab-df-convert {\n",
              "      background-color: #3B4455;\n",
              "      fill: #D2E3FC;\n",
              "    }\n",
              "\n",
              "    [theme=dark] .colab-df-convert:hover {\n",
              "      background-color: #434B5C;\n",
              "      box-shadow: 0px 1px 3px 1px rgba(0, 0, 0, 0.15);\n",
              "      filter: drop-shadow(0px 1px 2px rgba(0, 0, 0, 0.3));\n",
              "      fill: #FFFFFF;\n",
              "    }\n",
              "  </style>\n",
              "\n",
              "    <script>\n",
              "      const buttonEl =\n",
              "        document.querySelector('#df-bd09a4f3-6f57-41eb-82b9-615fbc0bf0ff button.colab-df-convert');\n",
              "      buttonEl.style.display =\n",
              "        google.colab.kernel.accessAllowed ? 'block' : 'none';\n",
              "\n",
              "      async function convertToInteractive(key) {\n",
              "        const element = document.querySelector('#df-bd09a4f3-6f57-41eb-82b9-615fbc0bf0ff');\n",
              "        const dataTable =\n",
              "          await google.colab.kernel.invokeFunction('convertToInteractive',\n",
              "                                                    [key], {});\n",
              "        if (!dataTable) return;\n",
              "\n",
              "        const docLinkHtml = 'Like what you see? Visit the ' +\n",
              "          '<a target=\"_blank\" href=https://colab.research.google.com/notebooks/data_table.ipynb>data table notebook</a>'\n",
              "          + ' to learn more about interactive tables.';\n",
              "        element.innerHTML = '';\n",
              "        dataTable['output_type'] = 'display_data';\n",
              "        await google.colab.output.renderOutput(dataTable, element);\n",
              "        const docLink = document.createElement('div');\n",
              "        docLink.innerHTML = docLinkHtml;\n",
              "        element.appendChild(docLink);\n",
              "      }\n",
              "    </script>\n",
              "  </div>\n",
              "\n",
              "\n",
              "    <div id=\"df-21ad9890-8cf7-4292-8089-5b7d4ad85418\">\n",
              "      <button class=\"colab-df-quickchart\" onclick=\"quickchart('df-21ad9890-8cf7-4292-8089-5b7d4ad85418')\"\n",
              "                title=\"Suggest charts\"\n",
              "                style=\"display:none;\">\n",
              "\n",
              "<svg xmlns=\"http://www.w3.org/2000/svg\" height=\"24px\"viewBox=\"0 0 24 24\"\n",
              "     width=\"24px\">\n",
              "    <g>\n",
              "        <path d=\"M19 3H5c-1.1 0-2 .9-2 2v14c0 1.1.9 2 2 2h14c1.1 0 2-.9 2-2V5c0-1.1-.9-2-2-2zM9 17H7v-7h2v7zm4 0h-2V7h2v10zm4 0h-2v-4h2v4z\"/>\n",
              "    </g>\n",
              "</svg>\n",
              "      </button>\n",
              "\n",
              "<style>\n",
              "  .colab-df-quickchart {\n",
              "      --bg-color: #E8F0FE;\n",
              "      --fill-color: #1967D2;\n",
              "      --hover-bg-color: #E2EBFA;\n",
              "      --hover-fill-color: #174EA6;\n",
              "      --disabled-fill-color: #AAA;\n",
              "      --disabled-bg-color: #DDD;\n",
              "  }\n",
              "\n",
              "  [theme=dark] .colab-df-quickchart {\n",
              "      --bg-color: #3B4455;\n",
              "      --fill-color: #D2E3FC;\n",
              "      --hover-bg-color: #434B5C;\n",
              "      --hover-fill-color: #FFFFFF;\n",
              "      --disabled-bg-color: #3B4455;\n",
              "      --disabled-fill-color: #666;\n",
              "  }\n",
              "\n",
              "  .colab-df-quickchart {\n",
              "    background-color: var(--bg-color);\n",
              "    border: none;\n",
              "    border-radius: 50%;\n",
              "    cursor: pointer;\n",
              "    display: none;\n",
              "    fill: var(--fill-color);\n",
              "    height: 32px;\n",
              "    padding: 0;\n",
              "    width: 32px;\n",
              "  }\n",
              "\n",
              "  .colab-df-quickchart:hover {\n",
              "    background-color: var(--hover-bg-color);\n",
              "    box-shadow: 0 1px 2px rgba(60, 64, 67, 0.3), 0 1px 3px 1px rgba(60, 64, 67, 0.15);\n",
              "    fill: var(--button-hover-fill-color);\n",
              "  }\n",
              "\n",
              "  .colab-df-quickchart-complete:disabled,\n",
              "  .colab-df-quickchart-complete:disabled:hover {\n",
              "    background-color: var(--disabled-bg-color);\n",
              "    fill: var(--disabled-fill-color);\n",
              "    box-shadow: none;\n",
              "  }\n",
              "\n",
              "  .colab-df-spinner {\n",
              "    border: 2px solid var(--fill-color);\n",
              "    border-color: transparent;\n",
              "    border-bottom-color: var(--fill-color);\n",
              "    animation:\n",
              "      spin 1s steps(1) infinite;\n",
              "  }\n",
              "\n",
              "  @keyframes spin {\n",
              "    0% {\n",
              "      border-color: transparent;\n",
              "      border-bottom-color: var(--fill-color);\n",
              "      border-left-color: var(--fill-color);\n",
              "    }\n",
              "    20% {\n",
              "      border-color: transparent;\n",
              "      border-left-color: var(--fill-color);\n",
              "      border-top-color: var(--fill-color);\n",
              "    }\n",
              "    30% {\n",
              "      border-color: transparent;\n",
              "      border-left-color: var(--fill-color);\n",
              "      border-top-color: var(--fill-color);\n",
              "      border-right-color: var(--fill-color);\n",
              "    }\n",
              "    40% {\n",
              "      border-color: transparent;\n",
              "      border-right-color: var(--fill-color);\n",
              "      border-top-color: var(--fill-color);\n",
              "    }\n",
              "    60% {\n",
              "      border-color: transparent;\n",
              "      border-right-color: var(--fill-color);\n",
              "    }\n",
              "    80% {\n",
              "      border-color: transparent;\n",
              "      border-right-color: var(--fill-color);\n",
              "      border-bottom-color: var(--fill-color);\n",
              "    }\n",
              "    90% {\n",
              "      border-color: transparent;\n",
              "      border-bottom-color: var(--fill-color);\n",
              "    }\n",
              "  }\n",
              "</style>\n",
              "\n",
              "      <script>\n",
              "        async function quickchart(key) {\n",
              "          const quickchartButtonEl =\n",
              "            document.querySelector('#' + key + ' button');\n",
              "          quickchartButtonEl.disabled = true;  // To prevent multiple clicks.\n",
              "          quickchartButtonEl.classList.add('colab-df-spinner');\n",
              "          try {\n",
              "            const charts = await google.colab.kernel.invokeFunction(\n",
              "                'suggestCharts', [key], {});\n",
              "          } catch (error) {\n",
              "            console.error('Error during call to suggestCharts:', error);\n",
              "          }\n",
              "          quickchartButtonEl.classList.remove('colab-df-spinner');\n",
              "          quickchartButtonEl.classList.add('colab-df-quickchart-complete');\n",
              "        }\n",
              "        (() => {\n",
              "          let quickchartButtonEl =\n",
              "            document.querySelector('#df-21ad9890-8cf7-4292-8089-5b7d4ad85418 button');\n",
              "          quickchartButtonEl.style.display =\n",
              "            google.colab.kernel.accessAllowed ? 'block' : 'none';\n",
              "        })();\n",
              "      </script>\n",
              "    </div>\n",
              "\n",
              "    </div>\n",
              "  </div>\n"
            ],
            "application/vnd.google.colaboratory.intrinsic+json": {
              "type": "dataframe",
              "summary": "{\n  \"name\": \"data\",\n  \"rows\": 5,\n  \"fields\": [\n    {\n      \"column\": \"case_id\",\n      \"properties\": {\n        \"dtype\": \"string\",\n        \"num_unique_values\": 5,\n        \"samples\": [\n          \"EZYV25477\",\n          \"EZYV25480\",\n          \"EZYV25478\"\n        ],\n        \"semantic_type\": \"\",\n        \"description\": \"\"\n      }\n    },\n    {\n      \"column\": \"continent\",\n      \"properties\": {\n        \"dtype\": \"category\",\n        \"num_unique_values\": 1,\n        \"samples\": [\n          \"Asia\"\n        ],\n        \"semantic_type\": \"\",\n        \"description\": \"\"\n      }\n    },\n    {\n      \"column\": \"education_of_employee\",\n      \"properties\": {\n        \"dtype\": \"string\",\n        \"num_unique_values\": 3,\n        \"samples\": [\n          \"Bachelor's\"\n        ],\n        \"semantic_type\": \"\",\n        \"description\": \"\"\n      }\n    },\n    {\n      \"column\": \"has_job_experience\",\n      \"properties\": {\n        \"dtype\": \"category\",\n        \"num_unique_values\": 1,\n        \"samples\": [\n          \"Y\"\n        ],\n        \"semantic_type\": \"\",\n        \"description\": \"\"\n      }\n    },\n    {\n      \"column\": \"requires_job_training\",\n      \"properties\": {\n        \"dtype\": \"category\",\n        \"num_unique_values\": 2,\n        \"samples\": [\n          \"N\"\n        ],\n        \"semantic_type\": \"\",\n        \"description\": \"\"\n      }\n    },\n    {\n      \"column\": \"no_of_employees\",\n      \"properties\": {\n        \"dtype\": \"number\",\n        \"std\": 908,\n        \"min\": 1121,\n        \"max\": 3274,\n        \"num_unique_values\": 5,\n        \"samples\": [\n          3274\n        ],\n        \"semantic_type\": \"\",\n        \"description\": \"\"\n      }\n    },\n    {\n      \"column\": \"yr_of_estab\",\n      \"properties\": {\n        \"dtype\": \"number\",\n        \"std\": 54,\n        \"min\": 1887,\n        \"max\": 2008,\n        \"num_unique_values\": 5,\n        \"samples\": [\n          2006\n        ],\n        \"semantic_type\": \"\",\n        \"description\": \"\"\n      }\n    },\n    {\n      \"column\": \"region_of_employment\",\n      \"properties\": {\n        \"dtype\": \"string\",\n        \"num_unique_values\": 4,\n        \"samples\": [\n          \"Northeast\"\n        ],\n        \"semantic_type\": \"\",\n        \"description\": \"\"\n      }\n    },\n    {\n      \"column\": \"prevailing_wage\",\n      \"properties\": {\n        \"dtype\": \"number\",\n        \"std\": 87632.02425266986,\n        \"min\": 70876.91,\n        \"max\": 279174.79,\n        \"num_unique_values\": 5,\n        \"samples\": [\n          279174.79\n        ],\n        \"semantic_type\": \"\",\n        \"description\": \"\"\n      }\n    },\n    {\n      \"column\": \"unit_of_wage\",\n      \"properties\": {\n        \"dtype\": \"category\",\n        \"num_unique_values\": 1,\n        \"samples\": [\n          \"Year\"\n        ],\n        \"semantic_type\": \"\",\n        \"description\": \"\"\n      }\n    },\n    {\n      \"column\": \"full_time_position\",\n      \"properties\": {\n        \"dtype\": \"category\",\n        \"num_unique_values\": 2,\n        \"samples\": [\n          \"N\"\n        ],\n        \"semantic_type\": \"\",\n        \"description\": \"\"\n      }\n    },\n    {\n      \"column\": \"case_status\",\n      \"properties\": {\n        \"dtype\": \"category\",\n        \"num_unique_values\": 1,\n        \"samples\": [\n          \"Certified\"\n        ],\n        \"semantic_type\": \"\",\n        \"description\": \"\"\n      }\n    }\n  ]\n}"
            }
          },
          "metadata": {},
          "execution_count": 6
        }
      ],
      "source": [
        "data.tail()"
      ]
    },
    {
      "cell_type": "code",
      "source": [
        "data.sample(5)"
      ],
      "metadata": {
        "colab": {
          "base_uri": "https://localhost:8080/",
          "height": 224
        },
        "id": "hUmFki2VM30U",
        "outputId": "4d306950-ed5f-4f14-b3d9-cafe799b28af"
      },
      "id": "hUmFki2VM30U",
      "execution_count": 7,
      "outputs": [
        {
          "output_type": "execute_result",
          "data": {
            "text/plain": [
              "         case_id continent education_of_employee has_job_experience  \\\n",
              "17154  EZYV17155    Europe            Bachelor's                  N   \n",
              "6992    EZYV6993      Asia            Bachelor's                  N   \n",
              "5006    EZYV5007      Asia            Bachelor's                  N   \n",
              "9159    EZYV9160      Asia              Master's                  Y   \n",
              "21712  EZYV21713      Asia              Master's                  N   \n",
              "\n",
              "      requires_job_training  no_of_employees  yr_of_estab  \\\n",
              "17154                     N            16646         2003   \n",
              "6992                      N             3347         2007   \n",
              "5006                      N             2032         2004   \n",
              "9159                      Y             1862         1997   \n",
              "21712                     N             2016         2007   \n",
              "\n",
              "      region_of_employment  prevailing_wage unit_of_wage full_time_position  \\\n",
              "17154            Northeast       78754.2700         Year                  Y   \n",
              "6992             Northeast      104484.7500         Year                  Y   \n",
              "5006             Northeast         468.4512         Hour                  Y   \n",
              "9159                  West      130456.7700         Year                  Y   \n",
              "21712                 West      146849.8200         Year                  Y   \n",
              "\n",
              "      case_status  \n",
              "17154   Certified  \n",
              "6992    Certified  \n",
              "5006       Denied  \n",
              "9159    Certified  \n",
              "21712      Denied  "
            ],
            "text/html": [
              "\n",
              "  <div id=\"df-f867a3af-fa5c-4046-9227-8eef54674ac4\" class=\"colab-df-container\">\n",
              "    <div>\n",
              "<style scoped>\n",
              "    .dataframe tbody tr th:only-of-type {\n",
              "        vertical-align: middle;\n",
              "    }\n",
              "\n",
              "    .dataframe tbody tr th {\n",
              "        vertical-align: top;\n",
              "    }\n",
              "\n",
              "    .dataframe thead th {\n",
              "        text-align: right;\n",
              "    }\n",
              "</style>\n",
              "<table border=\"1\" class=\"dataframe\">\n",
              "  <thead>\n",
              "    <tr style=\"text-align: right;\">\n",
              "      <th></th>\n",
              "      <th>case_id</th>\n",
              "      <th>continent</th>\n",
              "      <th>education_of_employee</th>\n",
              "      <th>has_job_experience</th>\n",
              "      <th>requires_job_training</th>\n",
              "      <th>no_of_employees</th>\n",
              "      <th>yr_of_estab</th>\n",
              "      <th>region_of_employment</th>\n",
              "      <th>prevailing_wage</th>\n",
              "      <th>unit_of_wage</th>\n",
              "      <th>full_time_position</th>\n",
              "      <th>case_status</th>\n",
              "    </tr>\n",
              "  </thead>\n",
              "  <tbody>\n",
              "    <tr>\n",
              "      <th>17154</th>\n",
              "      <td>EZYV17155</td>\n",
              "      <td>Europe</td>\n",
              "      <td>Bachelor's</td>\n",
              "      <td>N</td>\n",
              "      <td>N</td>\n",
              "      <td>16646</td>\n",
              "      <td>2003</td>\n",
              "      <td>Northeast</td>\n",
              "      <td>78754.2700</td>\n",
              "      <td>Year</td>\n",
              "      <td>Y</td>\n",
              "      <td>Certified</td>\n",
              "    </tr>\n",
              "    <tr>\n",
              "      <th>6992</th>\n",
              "      <td>EZYV6993</td>\n",
              "      <td>Asia</td>\n",
              "      <td>Bachelor's</td>\n",
              "      <td>N</td>\n",
              "      <td>N</td>\n",
              "      <td>3347</td>\n",
              "      <td>2007</td>\n",
              "      <td>Northeast</td>\n",
              "      <td>104484.7500</td>\n",
              "      <td>Year</td>\n",
              "      <td>Y</td>\n",
              "      <td>Certified</td>\n",
              "    </tr>\n",
              "    <tr>\n",
              "      <th>5006</th>\n",
              "      <td>EZYV5007</td>\n",
              "      <td>Asia</td>\n",
              "      <td>Bachelor's</td>\n",
              "      <td>N</td>\n",
              "      <td>N</td>\n",
              "      <td>2032</td>\n",
              "      <td>2004</td>\n",
              "      <td>Northeast</td>\n",
              "      <td>468.4512</td>\n",
              "      <td>Hour</td>\n",
              "      <td>Y</td>\n",
              "      <td>Denied</td>\n",
              "    </tr>\n",
              "    <tr>\n",
              "      <th>9159</th>\n",
              "      <td>EZYV9160</td>\n",
              "      <td>Asia</td>\n",
              "      <td>Master's</td>\n",
              "      <td>Y</td>\n",
              "      <td>Y</td>\n",
              "      <td>1862</td>\n",
              "      <td>1997</td>\n",
              "      <td>West</td>\n",
              "      <td>130456.7700</td>\n",
              "      <td>Year</td>\n",
              "      <td>Y</td>\n",
              "      <td>Certified</td>\n",
              "    </tr>\n",
              "    <tr>\n",
              "      <th>21712</th>\n",
              "      <td>EZYV21713</td>\n",
              "      <td>Asia</td>\n",
              "      <td>Master's</td>\n",
              "      <td>N</td>\n",
              "      <td>N</td>\n",
              "      <td>2016</td>\n",
              "      <td>2007</td>\n",
              "      <td>West</td>\n",
              "      <td>146849.8200</td>\n",
              "      <td>Year</td>\n",
              "      <td>Y</td>\n",
              "      <td>Denied</td>\n",
              "    </tr>\n",
              "  </tbody>\n",
              "</table>\n",
              "</div>\n",
              "    <div class=\"colab-df-buttons\">\n",
              "\n",
              "  <div class=\"colab-df-container\">\n",
              "    <button class=\"colab-df-convert\" onclick=\"convertToInteractive('df-f867a3af-fa5c-4046-9227-8eef54674ac4')\"\n",
              "            title=\"Convert this dataframe to an interactive table.\"\n",
              "            style=\"display:none;\">\n",
              "\n",
              "  <svg xmlns=\"http://www.w3.org/2000/svg\" height=\"24px\" viewBox=\"0 -960 960 960\">\n",
              "    <path d=\"M120-120v-720h720v720H120Zm60-500h600v-160H180v160Zm220 220h160v-160H400v160Zm0 220h160v-160H400v160ZM180-400h160v-160H180v160Zm440 0h160v-160H620v160ZM180-180h160v-160H180v160Zm440 0h160v-160H620v160Z\"/>\n",
              "  </svg>\n",
              "    </button>\n",
              "\n",
              "  <style>\n",
              "    .colab-df-container {\n",
              "      display:flex;\n",
              "      gap: 12px;\n",
              "    }\n",
              "\n",
              "    .colab-df-convert {\n",
              "      background-color: #E8F0FE;\n",
              "      border: none;\n",
              "      border-radius: 50%;\n",
              "      cursor: pointer;\n",
              "      display: none;\n",
              "      fill: #1967D2;\n",
              "      height: 32px;\n",
              "      padding: 0 0 0 0;\n",
              "      width: 32px;\n",
              "    }\n",
              "\n",
              "    .colab-df-convert:hover {\n",
              "      background-color: #E2EBFA;\n",
              "      box-shadow: 0px 1px 2px rgba(60, 64, 67, 0.3), 0px 1px 3px 1px rgba(60, 64, 67, 0.15);\n",
              "      fill: #174EA6;\n",
              "    }\n",
              "\n",
              "    .colab-df-buttons div {\n",
              "      margin-bottom: 4px;\n",
              "    }\n",
              "\n",
              "    [theme=dark] .colab-df-convert {\n",
              "      background-color: #3B4455;\n",
              "      fill: #D2E3FC;\n",
              "    }\n",
              "\n",
              "    [theme=dark] .colab-df-convert:hover {\n",
              "      background-color: #434B5C;\n",
              "      box-shadow: 0px 1px 3px 1px rgba(0, 0, 0, 0.15);\n",
              "      filter: drop-shadow(0px 1px 2px rgba(0, 0, 0, 0.3));\n",
              "      fill: #FFFFFF;\n",
              "    }\n",
              "  </style>\n",
              "\n",
              "    <script>\n",
              "      const buttonEl =\n",
              "        document.querySelector('#df-f867a3af-fa5c-4046-9227-8eef54674ac4 button.colab-df-convert');\n",
              "      buttonEl.style.display =\n",
              "        google.colab.kernel.accessAllowed ? 'block' : 'none';\n",
              "\n",
              "      async function convertToInteractive(key) {\n",
              "        const element = document.querySelector('#df-f867a3af-fa5c-4046-9227-8eef54674ac4');\n",
              "        const dataTable =\n",
              "          await google.colab.kernel.invokeFunction('convertToInteractive',\n",
              "                                                    [key], {});\n",
              "        if (!dataTable) return;\n",
              "\n",
              "        const docLinkHtml = 'Like what you see? Visit the ' +\n",
              "          '<a target=\"_blank\" href=https://colab.research.google.com/notebooks/data_table.ipynb>data table notebook</a>'\n",
              "          + ' to learn more about interactive tables.';\n",
              "        element.innerHTML = '';\n",
              "        dataTable['output_type'] = 'display_data';\n",
              "        await google.colab.output.renderOutput(dataTable, element);\n",
              "        const docLink = document.createElement('div');\n",
              "        docLink.innerHTML = docLinkHtml;\n",
              "        element.appendChild(docLink);\n",
              "      }\n",
              "    </script>\n",
              "  </div>\n",
              "\n",
              "\n",
              "    <div id=\"df-577adc63-85ef-4873-a556-0bd0bbfd4638\">\n",
              "      <button class=\"colab-df-quickchart\" onclick=\"quickchart('df-577adc63-85ef-4873-a556-0bd0bbfd4638')\"\n",
              "                title=\"Suggest charts\"\n",
              "                style=\"display:none;\">\n",
              "\n",
              "<svg xmlns=\"http://www.w3.org/2000/svg\" height=\"24px\"viewBox=\"0 0 24 24\"\n",
              "     width=\"24px\">\n",
              "    <g>\n",
              "        <path d=\"M19 3H5c-1.1 0-2 .9-2 2v14c0 1.1.9 2 2 2h14c1.1 0 2-.9 2-2V5c0-1.1-.9-2-2-2zM9 17H7v-7h2v7zm4 0h-2V7h2v10zm4 0h-2v-4h2v4z\"/>\n",
              "    </g>\n",
              "</svg>\n",
              "      </button>\n",
              "\n",
              "<style>\n",
              "  .colab-df-quickchart {\n",
              "      --bg-color: #E8F0FE;\n",
              "      --fill-color: #1967D2;\n",
              "      --hover-bg-color: #E2EBFA;\n",
              "      --hover-fill-color: #174EA6;\n",
              "      --disabled-fill-color: #AAA;\n",
              "      --disabled-bg-color: #DDD;\n",
              "  }\n",
              "\n",
              "  [theme=dark] .colab-df-quickchart {\n",
              "      --bg-color: #3B4455;\n",
              "      --fill-color: #D2E3FC;\n",
              "      --hover-bg-color: #434B5C;\n",
              "      --hover-fill-color: #FFFFFF;\n",
              "      --disabled-bg-color: #3B4455;\n",
              "      --disabled-fill-color: #666;\n",
              "  }\n",
              "\n",
              "  .colab-df-quickchart {\n",
              "    background-color: var(--bg-color);\n",
              "    border: none;\n",
              "    border-radius: 50%;\n",
              "    cursor: pointer;\n",
              "    display: none;\n",
              "    fill: var(--fill-color);\n",
              "    height: 32px;\n",
              "    padding: 0;\n",
              "    width: 32px;\n",
              "  }\n",
              "\n",
              "  .colab-df-quickchart:hover {\n",
              "    background-color: var(--hover-bg-color);\n",
              "    box-shadow: 0 1px 2px rgba(60, 64, 67, 0.3), 0 1px 3px 1px rgba(60, 64, 67, 0.15);\n",
              "    fill: var(--button-hover-fill-color);\n",
              "  }\n",
              "\n",
              "  .colab-df-quickchart-complete:disabled,\n",
              "  .colab-df-quickchart-complete:disabled:hover {\n",
              "    background-color: var(--disabled-bg-color);\n",
              "    fill: var(--disabled-fill-color);\n",
              "    box-shadow: none;\n",
              "  }\n",
              "\n",
              "  .colab-df-spinner {\n",
              "    border: 2px solid var(--fill-color);\n",
              "    border-color: transparent;\n",
              "    border-bottom-color: var(--fill-color);\n",
              "    animation:\n",
              "      spin 1s steps(1) infinite;\n",
              "  }\n",
              "\n",
              "  @keyframes spin {\n",
              "    0% {\n",
              "      border-color: transparent;\n",
              "      border-bottom-color: var(--fill-color);\n",
              "      border-left-color: var(--fill-color);\n",
              "    }\n",
              "    20% {\n",
              "      border-color: transparent;\n",
              "      border-left-color: var(--fill-color);\n",
              "      border-top-color: var(--fill-color);\n",
              "    }\n",
              "    30% {\n",
              "      border-color: transparent;\n",
              "      border-left-color: var(--fill-color);\n",
              "      border-top-color: var(--fill-color);\n",
              "      border-right-color: var(--fill-color);\n",
              "    }\n",
              "    40% {\n",
              "      border-color: transparent;\n",
              "      border-right-color: var(--fill-color);\n",
              "      border-top-color: var(--fill-color);\n",
              "    }\n",
              "    60% {\n",
              "      border-color: transparent;\n",
              "      border-right-color: var(--fill-color);\n",
              "    }\n",
              "    80% {\n",
              "      border-color: transparent;\n",
              "      border-right-color: var(--fill-color);\n",
              "      border-bottom-color: var(--fill-color);\n",
              "    }\n",
              "    90% {\n",
              "      border-color: transparent;\n",
              "      border-bottom-color: var(--fill-color);\n",
              "    }\n",
              "  }\n",
              "</style>\n",
              "\n",
              "      <script>\n",
              "        async function quickchart(key) {\n",
              "          const quickchartButtonEl =\n",
              "            document.querySelector('#' + key + ' button');\n",
              "          quickchartButtonEl.disabled = true;  // To prevent multiple clicks.\n",
              "          quickchartButtonEl.classList.add('colab-df-spinner');\n",
              "          try {\n",
              "            const charts = await google.colab.kernel.invokeFunction(\n",
              "                'suggestCharts', [key], {});\n",
              "          } catch (error) {\n",
              "            console.error('Error during call to suggestCharts:', error);\n",
              "          }\n",
              "          quickchartButtonEl.classList.remove('colab-df-spinner');\n",
              "          quickchartButtonEl.classList.add('colab-df-quickchart-complete');\n",
              "        }\n",
              "        (() => {\n",
              "          let quickchartButtonEl =\n",
              "            document.querySelector('#df-577adc63-85ef-4873-a556-0bd0bbfd4638 button');\n",
              "          quickchartButtonEl.style.display =\n",
              "            google.colab.kernel.accessAllowed ? 'block' : 'none';\n",
              "        })();\n",
              "      </script>\n",
              "    </div>\n",
              "\n",
              "    </div>\n",
              "  </div>\n"
            ],
            "application/vnd.google.colaboratory.intrinsic+json": {
              "type": "dataframe",
              "summary": "{\n  \"name\": \"data\",\n  \"rows\": 5,\n  \"fields\": [\n    {\n      \"column\": \"case_id\",\n      \"properties\": {\n        \"dtype\": \"string\",\n        \"num_unique_values\": 5,\n        \"samples\": [\n          \"EZYV6993\",\n          \"EZYV21713\",\n          \"EZYV5007\"\n        ],\n        \"semantic_type\": \"\",\n        \"description\": \"\"\n      }\n    },\n    {\n      \"column\": \"continent\",\n      \"properties\": {\n        \"dtype\": \"category\",\n        \"num_unique_values\": 2,\n        \"samples\": [\n          \"Asia\",\n          \"Europe\"\n        ],\n        \"semantic_type\": \"\",\n        \"description\": \"\"\n      }\n    },\n    {\n      \"column\": \"education_of_employee\",\n      \"properties\": {\n        \"dtype\": \"category\",\n        \"num_unique_values\": 2,\n        \"samples\": [\n          \"Master's\",\n          \"Bachelor's\"\n        ],\n        \"semantic_type\": \"\",\n        \"description\": \"\"\n      }\n    },\n    {\n      \"column\": \"has_job_experience\",\n      \"properties\": {\n        \"dtype\": \"category\",\n        \"num_unique_values\": 2,\n        \"samples\": [\n          \"Y\",\n          \"N\"\n        ],\n        \"semantic_type\": \"\",\n        \"description\": \"\"\n      }\n    },\n    {\n      \"column\": \"requires_job_training\",\n      \"properties\": {\n        \"dtype\": \"category\",\n        \"num_unique_values\": 2,\n        \"samples\": [\n          \"Y\",\n          \"N\"\n        ],\n        \"semantic_type\": \"\",\n        \"description\": \"\"\n      }\n    },\n    {\n      \"column\": \"no_of_employees\",\n      \"properties\": {\n        \"dtype\": \"number\",\n        \"std\": 6437,\n        \"min\": 1862,\n        \"max\": 16646,\n        \"num_unique_values\": 5,\n        \"samples\": [\n          3347,\n          2016\n        ],\n        \"semantic_type\": \"\",\n        \"description\": \"\"\n      }\n    },\n    {\n      \"column\": \"yr_of_estab\",\n      \"properties\": {\n        \"dtype\": \"number\",\n        \"std\": 4,\n        \"min\": 1997,\n        \"max\": 2007,\n        \"num_unique_values\": 4,\n        \"samples\": [\n          2007,\n          1997\n        ],\n        \"semantic_type\": \"\",\n        \"description\": \"\"\n      }\n    },\n    {\n      \"column\": \"region_of_employment\",\n      \"properties\": {\n        \"dtype\": \"category\",\n        \"num_unique_values\": 2,\n        \"samples\": [\n          \"West\",\n          \"Northeast\"\n        ],\n        \"semantic_type\": \"\",\n        \"description\": \"\"\n      }\n    },\n    {\n      \"column\": \"prevailing_wage\",\n      \"properties\": {\n        \"dtype\": \"number\",\n        \"std\": 57438.14721150922,\n        \"min\": 468.4512,\n        \"max\": 146849.82,\n        \"num_unique_values\": 5,\n        \"samples\": [\n          104484.75,\n          146849.82\n        ],\n        \"semantic_type\": \"\",\n        \"description\": \"\"\n      }\n    },\n    {\n      \"column\": \"unit_of_wage\",\n      \"properties\": {\n        \"dtype\": \"category\",\n        \"num_unique_values\": 2,\n        \"samples\": [\n          \"Hour\",\n          \"Year\"\n        ],\n        \"semantic_type\": \"\",\n        \"description\": \"\"\n      }\n    },\n    {\n      \"column\": \"full_time_position\",\n      \"properties\": {\n        \"dtype\": \"category\",\n        \"num_unique_values\": 1,\n        \"samples\": [\n          \"Y\"\n        ],\n        \"semantic_type\": \"\",\n        \"description\": \"\"\n      }\n    },\n    {\n      \"column\": \"case_status\",\n      \"properties\": {\n        \"dtype\": \"category\",\n        \"num_unique_values\": 2,\n        \"samples\": [\n          \"Denied\"\n        ],\n        \"semantic_type\": \"\",\n        \"description\": \"\"\n      }\n    }\n  ]\n}"
            }
          },
          "metadata": {},
          "execution_count": 7
        }
      ]
    },
    {
      "cell_type": "markdown",
      "id": "accessory-camel",
      "metadata": {
        "id": "accessory-camel"
      },
      "source": [
        "#### 3.2 - Shape of the dataset"
      ]
    },
    {
      "cell_type": "code",
      "execution_count": 8,
      "id": "regulation-elder",
      "metadata": {
        "id": "regulation-elder",
        "colab": {
          "base_uri": "https://localhost:8080/"
        },
        "outputId": "a3baecb2-77a4-4dad-ef3e-44e08bf8bce1"
      },
      "outputs": [
        {
          "output_type": "execute_result",
          "data": {
            "text/plain": [
              "(25480, 12)"
            ]
          },
          "metadata": {},
          "execution_count": 8
        }
      ],
      "source": [
        "data.shape"
      ]
    },
    {
      "cell_type": "markdown",
      "id": "biblical-venice",
      "metadata": {
        "id": "biblical-venice"
      },
      "source": [
        "<span style=\"color: blue;\"> **Observation**</span>\n",
        "* The dataset has 25480 rows and 12 columns"
      ]
    },
    {
      "cell_type": "markdown",
      "id": "assigned-berkeley",
      "metadata": {
        "id": "assigned-berkeley"
      },
      "source": [
        "#### 3.3 Check the column data types and describe the dataset"
      ]
    },
    {
      "cell_type": "code",
      "execution_count": 9,
      "id": "judicial-institute",
      "metadata": {
        "id": "judicial-institute",
        "colab": {
          "base_uri": "https://localhost:8080/"
        },
        "outputId": "4fba1ffa-82f8-4b2a-89b7-8ad589759a1b"
      },
      "outputs": [
        {
          "output_type": "stream",
          "name": "stdout",
          "text": [
            "<class 'pandas.core.frame.DataFrame'>\n",
            "RangeIndex: 25480 entries, 0 to 25479\n",
            "Data columns (total 12 columns):\n",
            " #   Column                 Non-Null Count  Dtype  \n",
            "---  ------                 --------------  -----  \n",
            " 0   case_id                25480 non-null  object \n",
            " 1   continent              25480 non-null  object \n",
            " 2   education_of_employee  25480 non-null  object \n",
            " 3   has_job_experience     25480 non-null  object \n",
            " 4   requires_job_training  25480 non-null  object \n",
            " 5   no_of_employees        25480 non-null  int64  \n",
            " 6   yr_of_estab            25480 non-null  int64  \n",
            " 7   region_of_employment   25480 non-null  object \n",
            " 8   prevailing_wage        25480 non-null  float64\n",
            " 9   unit_of_wage           25480 non-null  object \n",
            " 10  full_time_position     25480 non-null  object \n",
            " 11  case_status            25480 non-null  object \n",
            "dtypes: float64(1), int64(2), object(9)\n",
            "memory usage: 2.3+ MB\n"
          ]
        }
      ],
      "source": [
        "data.info()"
      ]
    },
    {
      "cell_type": "code",
      "source": [
        "data.describe().T"
      ],
      "metadata": {
        "colab": {
          "base_uri": "https://localhost:8080/",
          "height": 142
        },
        "id": "VZI0PTzwOifZ",
        "outputId": "aaa9daf1-67ad-4adc-abd9-10a51696bcb4"
      },
      "id": "VZI0PTzwOifZ",
      "execution_count": 10,
      "outputs": [
        {
          "output_type": "execute_result",
          "data": {
            "text/plain": [
              "                   count          mean           std        min       25%  \\\n",
              "no_of_employees  25480.0   5667.043210  22877.928848   -26.0000   1022.00   \n",
              "yr_of_estab      25480.0   1979.409929     42.366929  1800.0000   1976.00   \n",
              "prevailing_wage  25480.0  74455.814592  52815.942327     2.1367  34015.48   \n",
              "\n",
              "                      50%          75%        max  \n",
              "no_of_employees   2109.00    3504.0000  602069.00  \n",
              "yr_of_estab       1997.00    2005.0000    2016.00  \n",
              "prevailing_wage  70308.21  107735.5125  319210.27  "
            ],
            "text/html": [
              "\n",
              "  <div id=\"df-cee3e5bc-bb06-4f31-babc-d703b05e991e\" class=\"colab-df-container\">\n",
              "    <div>\n",
              "<style scoped>\n",
              "    .dataframe tbody tr th:only-of-type {\n",
              "        vertical-align: middle;\n",
              "    }\n",
              "\n",
              "    .dataframe tbody tr th {\n",
              "        vertical-align: top;\n",
              "    }\n",
              "\n",
              "    .dataframe thead th {\n",
              "        text-align: right;\n",
              "    }\n",
              "</style>\n",
              "<table border=\"1\" class=\"dataframe\">\n",
              "  <thead>\n",
              "    <tr style=\"text-align: right;\">\n",
              "      <th></th>\n",
              "      <th>count</th>\n",
              "      <th>mean</th>\n",
              "      <th>std</th>\n",
              "      <th>min</th>\n",
              "      <th>25%</th>\n",
              "      <th>50%</th>\n",
              "      <th>75%</th>\n",
              "      <th>max</th>\n",
              "    </tr>\n",
              "  </thead>\n",
              "  <tbody>\n",
              "    <tr>\n",
              "      <th>no_of_employees</th>\n",
              "      <td>25480.0</td>\n",
              "      <td>5667.043210</td>\n",
              "      <td>22877.928848</td>\n",
              "      <td>-26.0000</td>\n",
              "      <td>1022.00</td>\n",
              "      <td>2109.00</td>\n",
              "      <td>3504.0000</td>\n",
              "      <td>602069.00</td>\n",
              "    </tr>\n",
              "    <tr>\n",
              "      <th>yr_of_estab</th>\n",
              "      <td>25480.0</td>\n",
              "      <td>1979.409929</td>\n",
              "      <td>42.366929</td>\n",
              "      <td>1800.0000</td>\n",
              "      <td>1976.00</td>\n",
              "      <td>1997.00</td>\n",
              "      <td>2005.0000</td>\n",
              "      <td>2016.00</td>\n",
              "    </tr>\n",
              "    <tr>\n",
              "      <th>prevailing_wage</th>\n",
              "      <td>25480.0</td>\n",
              "      <td>74455.814592</td>\n",
              "      <td>52815.942327</td>\n",
              "      <td>2.1367</td>\n",
              "      <td>34015.48</td>\n",
              "      <td>70308.21</td>\n",
              "      <td>107735.5125</td>\n",
              "      <td>319210.27</td>\n",
              "    </tr>\n",
              "  </tbody>\n",
              "</table>\n",
              "</div>\n",
              "    <div class=\"colab-df-buttons\">\n",
              "\n",
              "  <div class=\"colab-df-container\">\n",
              "    <button class=\"colab-df-convert\" onclick=\"convertToInteractive('df-cee3e5bc-bb06-4f31-babc-d703b05e991e')\"\n",
              "            title=\"Convert this dataframe to an interactive table.\"\n",
              "            style=\"display:none;\">\n",
              "\n",
              "  <svg xmlns=\"http://www.w3.org/2000/svg\" height=\"24px\" viewBox=\"0 -960 960 960\">\n",
              "    <path d=\"M120-120v-720h720v720H120Zm60-500h600v-160H180v160Zm220 220h160v-160H400v160Zm0 220h160v-160H400v160ZM180-400h160v-160H180v160Zm440 0h160v-160H620v160ZM180-180h160v-160H180v160Zm440 0h160v-160H620v160Z\"/>\n",
              "  </svg>\n",
              "    </button>\n",
              "\n",
              "  <style>\n",
              "    .colab-df-container {\n",
              "      display:flex;\n",
              "      gap: 12px;\n",
              "    }\n",
              "\n",
              "    .colab-df-convert {\n",
              "      background-color: #E8F0FE;\n",
              "      border: none;\n",
              "      border-radius: 50%;\n",
              "      cursor: pointer;\n",
              "      display: none;\n",
              "      fill: #1967D2;\n",
              "      height: 32px;\n",
              "      padding: 0 0 0 0;\n",
              "      width: 32px;\n",
              "    }\n",
              "\n",
              "    .colab-df-convert:hover {\n",
              "      background-color: #E2EBFA;\n",
              "      box-shadow: 0px 1px 2px rgba(60, 64, 67, 0.3), 0px 1px 3px 1px rgba(60, 64, 67, 0.15);\n",
              "      fill: #174EA6;\n",
              "    }\n",
              "\n",
              "    .colab-df-buttons div {\n",
              "      margin-bottom: 4px;\n",
              "    }\n",
              "\n",
              "    [theme=dark] .colab-df-convert {\n",
              "      background-color: #3B4455;\n",
              "      fill: #D2E3FC;\n",
              "    }\n",
              "\n",
              "    [theme=dark] .colab-df-convert:hover {\n",
              "      background-color: #434B5C;\n",
              "      box-shadow: 0px 1px 3px 1px rgba(0, 0, 0, 0.15);\n",
              "      filter: drop-shadow(0px 1px 2px rgba(0, 0, 0, 0.3));\n",
              "      fill: #FFFFFF;\n",
              "    }\n",
              "  </style>\n",
              "\n",
              "    <script>\n",
              "      const buttonEl =\n",
              "        document.querySelector('#df-cee3e5bc-bb06-4f31-babc-d703b05e991e button.colab-df-convert');\n",
              "      buttonEl.style.display =\n",
              "        google.colab.kernel.accessAllowed ? 'block' : 'none';\n",
              "\n",
              "      async function convertToInteractive(key) {\n",
              "        const element = document.querySelector('#df-cee3e5bc-bb06-4f31-babc-d703b05e991e');\n",
              "        const dataTable =\n",
              "          await google.colab.kernel.invokeFunction('convertToInteractive',\n",
              "                                                    [key], {});\n",
              "        if (!dataTable) return;\n",
              "\n",
              "        const docLinkHtml = 'Like what you see? Visit the ' +\n",
              "          '<a target=\"_blank\" href=https://colab.research.google.com/notebooks/data_table.ipynb>data table notebook</a>'\n",
              "          + ' to learn more about interactive tables.';\n",
              "        element.innerHTML = '';\n",
              "        dataTable['output_type'] = 'display_data';\n",
              "        await google.colab.output.renderOutput(dataTable, element);\n",
              "        const docLink = document.createElement('div');\n",
              "        docLink.innerHTML = docLinkHtml;\n",
              "        element.appendChild(docLink);\n",
              "      }\n",
              "    </script>\n",
              "  </div>\n",
              "\n",
              "\n",
              "    <div id=\"df-8c152916-e4c7-44a8-a78b-b0adb17a94ca\">\n",
              "      <button class=\"colab-df-quickchart\" onclick=\"quickchart('df-8c152916-e4c7-44a8-a78b-b0adb17a94ca')\"\n",
              "                title=\"Suggest charts\"\n",
              "                style=\"display:none;\">\n",
              "\n",
              "<svg xmlns=\"http://www.w3.org/2000/svg\" height=\"24px\"viewBox=\"0 0 24 24\"\n",
              "     width=\"24px\">\n",
              "    <g>\n",
              "        <path d=\"M19 3H5c-1.1 0-2 .9-2 2v14c0 1.1.9 2 2 2h14c1.1 0 2-.9 2-2V5c0-1.1-.9-2-2-2zM9 17H7v-7h2v7zm4 0h-2V7h2v10zm4 0h-2v-4h2v4z\"/>\n",
              "    </g>\n",
              "</svg>\n",
              "      </button>\n",
              "\n",
              "<style>\n",
              "  .colab-df-quickchart {\n",
              "      --bg-color: #E8F0FE;\n",
              "      --fill-color: #1967D2;\n",
              "      --hover-bg-color: #E2EBFA;\n",
              "      --hover-fill-color: #174EA6;\n",
              "      --disabled-fill-color: #AAA;\n",
              "      --disabled-bg-color: #DDD;\n",
              "  }\n",
              "\n",
              "  [theme=dark] .colab-df-quickchart {\n",
              "      --bg-color: #3B4455;\n",
              "      --fill-color: #D2E3FC;\n",
              "      --hover-bg-color: #434B5C;\n",
              "      --hover-fill-color: #FFFFFF;\n",
              "      --disabled-bg-color: #3B4455;\n",
              "      --disabled-fill-color: #666;\n",
              "  }\n",
              "\n",
              "  .colab-df-quickchart {\n",
              "    background-color: var(--bg-color);\n",
              "    border: none;\n",
              "    border-radius: 50%;\n",
              "    cursor: pointer;\n",
              "    display: none;\n",
              "    fill: var(--fill-color);\n",
              "    height: 32px;\n",
              "    padding: 0;\n",
              "    width: 32px;\n",
              "  }\n",
              "\n",
              "  .colab-df-quickchart:hover {\n",
              "    background-color: var(--hover-bg-color);\n",
              "    box-shadow: 0 1px 2px rgba(60, 64, 67, 0.3), 0 1px 3px 1px rgba(60, 64, 67, 0.15);\n",
              "    fill: var(--button-hover-fill-color);\n",
              "  }\n",
              "\n",
              "  .colab-df-quickchart-complete:disabled,\n",
              "  .colab-df-quickchart-complete:disabled:hover {\n",
              "    background-color: var(--disabled-bg-color);\n",
              "    fill: var(--disabled-fill-color);\n",
              "    box-shadow: none;\n",
              "  }\n",
              "\n",
              "  .colab-df-spinner {\n",
              "    border: 2px solid var(--fill-color);\n",
              "    border-color: transparent;\n",
              "    border-bottom-color: var(--fill-color);\n",
              "    animation:\n",
              "      spin 1s steps(1) infinite;\n",
              "  }\n",
              "\n",
              "  @keyframes spin {\n",
              "    0% {\n",
              "      border-color: transparent;\n",
              "      border-bottom-color: var(--fill-color);\n",
              "      border-left-color: var(--fill-color);\n",
              "    }\n",
              "    20% {\n",
              "      border-color: transparent;\n",
              "      border-left-color: var(--fill-color);\n",
              "      border-top-color: var(--fill-color);\n",
              "    }\n",
              "    30% {\n",
              "      border-color: transparent;\n",
              "      border-left-color: var(--fill-color);\n",
              "      border-top-color: var(--fill-color);\n",
              "      border-right-color: var(--fill-color);\n",
              "    }\n",
              "    40% {\n",
              "      border-color: transparent;\n",
              "      border-right-color: var(--fill-color);\n",
              "      border-top-color: var(--fill-color);\n",
              "    }\n",
              "    60% {\n",
              "      border-color: transparent;\n",
              "      border-right-color: var(--fill-color);\n",
              "    }\n",
              "    80% {\n",
              "      border-color: transparent;\n",
              "      border-right-color: var(--fill-color);\n",
              "      border-bottom-color: var(--fill-color);\n",
              "    }\n",
              "    90% {\n",
              "      border-color: transparent;\n",
              "      border-bottom-color: var(--fill-color);\n",
              "    }\n",
              "  }\n",
              "</style>\n",
              "\n",
              "      <script>\n",
              "        async function quickchart(key) {\n",
              "          const quickchartButtonEl =\n",
              "            document.querySelector('#' + key + ' button');\n",
              "          quickchartButtonEl.disabled = true;  // To prevent multiple clicks.\n",
              "          quickchartButtonEl.classList.add('colab-df-spinner');\n",
              "          try {\n",
              "            const charts = await google.colab.kernel.invokeFunction(\n",
              "                'suggestCharts', [key], {});\n",
              "          } catch (error) {\n",
              "            console.error('Error during call to suggestCharts:', error);\n",
              "          }\n",
              "          quickchartButtonEl.classList.remove('colab-df-spinner');\n",
              "          quickchartButtonEl.classList.add('colab-df-quickchart-complete');\n",
              "        }\n",
              "        (() => {\n",
              "          let quickchartButtonEl =\n",
              "            document.querySelector('#df-8c152916-e4c7-44a8-a78b-b0adb17a94ca button');\n",
              "          quickchartButtonEl.style.display =\n",
              "            google.colab.kernel.accessAllowed ? 'block' : 'none';\n",
              "        })();\n",
              "      </script>\n",
              "    </div>\n",
              "\n",
              "    </div>\n",
              "  </div>\n"
            ],
            "application/vnd.google.colaboratory.intrinsic+json": {
              "type": "dataframe",
              "summary": "{\n  \"name\": \"data\",\n  \"rows\": 3,\n  \"fields\": [\n    {\n      \"column\": \"count\",\n      \"properties\": {\n        \"dtype\": \"number\",\n        \"std\": 0.0,\n        \"min\": 25480.0,\n        \"max\": 25480.0,\n        \"num_unique_values\": 1,\n        \"samples\": [\n          25480.0\n        ],\n        \"semantic_type\": \"\",\n        \"description\": \"\"\n      }\n    },\n    {\n      \"column\": \"mean\",\n      \"properties\": {\n        \"dtype\": \"number\",\n        \"std\": 40821.405618988225,\n        \"min\": 1979.409929356358,\n        \"max\": 74455.81459209183,\n        \"num_unique_values\": 3,\n        \"samples\": [\n          5667.043210361067\n        ],\n        \"semantic_type\": \"\",\n        \"description\": \"\"\n      }\n    },\n    {\n      \"column\": \"std\",\n      \"properties\": {\n        \"dtype\": \"number\",\n        \"std\": 26466.323883636098,\n        \"min\": 42.366929101569646,\n        \"max\": 52815.94232687357,\n        \"num_unique_values\": 3,\n        \"samples\": [\n          22877.928847734398\n        ],\n        \"semantic_type\": \"\",\n        \"description\": \"\"\n      }\n    },\n    {\n      \"column\": \"min\",\n      \"properties\": {\n        \"dtype\": \"number\",\n        \"std\": 1046.213818121785,\n        \"min\": -26.0,\n        \"max\": 1800.0,\n        \"num_unique_values\": 3,\n        \"samples\": [\n          -26.0\n        ],\n        \"semantic_type\": \"\",\n        \"description\": \"\"\n      }\n    },\n    {\n      \"column\": \"25%\",\n      \"properties\": {\n        \"dtype\": \"number\",\n        \"std\": 18779.45738114212,\n        \"min\": 1022.0,\n        \"max\": 34015.479999999996,\n        \"num_unique_values\": 3,\n        \"samples\": [\n          1022.0\n        ],\n        \"semantic_type\": \"\",\n        \"description\": \"\"\n      }\n    },\n    {\n      \"column\": \"50%\",\n      \"properties\": {\n        \"dtype\": \"number\",\n        \"std\": 39407.20365679393,\n        \"min\": 1997.0,\n        \"max\": 70308.20999999999,\n        \"num_unique_values\": 3,\n        \"samples\": [\n          2109.0\n        ],\n        \"semantic_type\": \"\",\n        \"description\": \"\"\n      }\n    },\n    {\n      \"column\": \"75%\",\n      \"properties\": {\n        \"dtype\": \"number\",\n        \"std\": 60615.44972550358,\n        \"min\": 2005.0,\n        \"max\": 107735.51250000001,\n        \"num_unique_values\": 3,\n        \"samples\": [\n          3504.0\n        ],\n        \"semantic_type\": \"\",\n        \"description\": \"\"\n      }\n    },\n    {\n      \"column\": \"max\",\n      \"properties\": {\n        \"dtype\": \"number\",\n        \"std\": 300190.18107055785,\n        \"min\": 2016.0,\n        \"max\": 602069.0,\n        \"num_unique_values\": 3,\n        \"samples\": [\n          602069.0\n        ],\n        \"semantic_type\": \"\",\n        \"description\": \"\"\n      }\n    }\n  ]\n}"
            }
          },
          "metadata": {},
          "execution_count": 10
        }
      ]
    },
    {
      "cell_type": "markdown",
      "source": [
        "<span style=\"color: blue;\">**Observations**</span>\n",
        "* **Missing Values**: There are no missing values in any of the columns, as indicated by the `Non-Null Count` being equal to the total number of entries (25480) for all columns.\n",
        "* **Data Types**: The dataset contains numerical columns (`no_of_employees`, `yr_of_estab`, and `prevailing_wage`) and rest are object type columns. The object type columns are potential candidates for conversion to categorical data types for further analysis and modeling.\n",
        "* **Anomalies in `no_of_employees`**: The minimum value of -26 in `no_of_employees` is an anomaly and requires preprocessing.\n",
        "* **Distribution of `no_of_employees`**: The large difference between the 75th percentile and the maximum value, along with the mean being larger than the median, suggests that `no_of_employees` is right-skewed and contains potential outliers.\n",
        "* **Anomalies in `yr_of_estab`**: The minimum value of 1800 for `yr_of_estab` seems unusually low and might indicate data entry errors or require further investigation.\n",
        "* **Distribution of `yr_of_estab`**: The data for `yr_of_estab` appears to be left-skewed, as suggested by the relatively large difference between the minimum and the 25th percentile compared to the difference between the median and the maximum.\n",
        "* **`prevailing_wage` Range**: The wide range of values in `prevailing_wage` is expected due to the different units of wage (`unit_of_wage`).\n"
      ],
      "metadata": {
        "id": "4gsq0huLPhIM"
      },
      "id": "4gsq0huLPhIM"
    },
    {
      "cell_type": "markdown",
      "source": [
        "#### 3.4 - Convert columns with 'object' type to 'category' type"
      ],
      "metadata": {
        "id": "RkHabhmbqjwk"
      },
      "id": "RkHabhmbqjwk"
    },
    {
      "cell_type": "code",
      "source": [
        "for column in data.columns:\n",
        "    if data[column].dtype == 'object':\n",
        "      data[column] = pd.Categorical(data[column])"
      ],
      "metadata": {
        "id": "_CX0FqQLq6f1"
      },
      "id": "_CX0FqQLq6f1",
      "execution_count": 11,
      "outputs": []
    },
    {
      "cell_type": "code",
      "source": [
        "data.describe(include='category').T"
      ],
      "metadata": {
        "id": "o9sQsxgurQEm",
        "outputId": "0ae5a6d1-3691-451e-faea-5a16874952e7",
        "colab": {
          "base_uri": "https://localhost:8080/",
          "height": 328
        }
      },
      "id": "o9sQsxgurQEm",
      "execution_count": 12,
      "outputs": [
        {
          "output_type": "execute_result",
          "data": {
            "text/plain": [
              "                       count unique         top   freq\n",
              "case_id                25480  25480    EZYV9999      1\n",
              "continent              25480      6        Asia  16861\n",
              "education_of_employee  25480      4  Bachelor's  10234\n",
              "has_job_experience     25480      2           Y  14802\n",
              "requires_job_training  25480      2           N  22525\n",
              "region_of_employment   25480      5   Northeast   7195\n",
              "unit_of_wage           25480      4        Year  22962\n",
              "full_time_position     25480      2           Y  22773\n",
              "case_status            25480      2   Certified  17018"
            ],
            "text/html": [
              "\n",
              "  <div id=\"df-d1f95691-530f-456e-9383-c0c67ecc0003\" class=\"colab-df-container\">\n",
              "    <div>\n",
              "<style scoped>\n",
              "    .dataframe tbody tr th:only-of-type {\n",
              "        vertical-align: middle;\n",
              "    }\n",
              "\n",
              "    .dataframe tbody tr th {\n",
              "        vertical-align: top;\n",
              "    }\n",
              "\n",
              "    .dataframe thead th {\n",
              "        text-align: right;\n",
              "    }\n",
              "</style>\n",
              "<table border=\"1\" class=\"dataframe\">\n",
              "  <thead>\n",
              "    <tr style=\"text-align: right;\">\n",
              "      <th></th>\n",
              "      <th>count</th>\n",
              "      <th>unique</th>\n",
              "      <th>top</th>\n",
              "      <th>freq</th>\n",
              "    </tr>\n",
              "  </thead>\n",
              "  <tbody>\n",
              "    <tr>\n",
              "      <th>case_id</th>\n",
              "      <td>25480</td>\n",
              "      <td>25480</td>\n",
              "      <td>EZYV9999</td>\n",
              "      <td>1</td>\n",
              "    </tr>\n",
              "    <tr>\n",
              "      <th>continent</th>\n",
              "      <td>25480</td>\n",
              "      <td>6</td>\n",
              "      <td>Asia</td>\n",
              "      <td>16861</td>\n",
              "    </tr>\n",
              "    <tr>\n",
              "      <th>education_of_employee</th>\n",
              "      <td>25480</td>\n",
              "      <td>4</td>\n",
              "      <td>Bachelor's</td>\n",
              "      <td>10234</td>\n",
              "    </tr>\n",
              "    <tr>\n",
              "      <th>has_job_experience</th>\n",
              "      <td>25480</td>\n",
              "      <td>2</td>\n",
              "      <td>Y</td>\n",
              "      <td>14802</td>\n",
              "    </tr>\n",
              "    <tr>\n",
              "      <th>requires_job_training</th>\n",
              "      <td>25480</td>\n",
              "      <td>2</td>\n",
              "      <td>N</td>\n",
              "      <td>22525</td>\n",
              "    </tr>\n",
              "    <tr>\n",
              "      <th>region_of_employment</th>\n",
              "      <td>25480</td>\n",
              "      <td>5</td>\n",
              "      <td>Northeast</td>\n",
              "      <td>7195</td>\n",
              "    </tr>\n",
              "    <tr>\n",
              "      <th>unit_of_wage</th>\n",
              "      <td>25480</td>\n",
              "      <td>4</td>\n",
              "      <td>Year</td>\n",
              "      <td>22962</td>\n",
              "    </tr>\n",
              "    <tr>\n",
              "      <th>full_time_position</th>\n",
              "      <td>25480</td>\n",
              "      <td>2</td>\n",
              "      <td>Y</td>\n",
              "      <td>22773</td>\n",
              "    </tr>\n",
              "    <tr>\n",
              "      <th>case_status</th>\n",
              "      <td>25480</td>\n",
              "      <td>2</td>\n",
              "      <td>Certified</td>\n",
              "      <td>17018</td>\n",
              "    </tr>\n",
              "  </tbody>\n",
              "</table>\n",
              "</div>\n",
              "    <div class=\"colab-df-buttons\">\n",
              "\n",
              "  <div class=\"colab-df-container\">\n",
              "    <button class=\"colab-df-convert\" onclick=\"convertToInteractive('df-d1f95691-530f-456e-9383-c0c67ecc0003')\"\n",
              "            title=\"Convert this dataframe to an interactive table.\"\n",
              "            style=\"display:none;\">\n",
              "\n",
              "  <svg xmlns=\"http://www.w3.org/2000/svg\" height=\"24px\" viewBox=\"0 -960 960 960\">\n",
              "    <path d=\"M120-120v-720h720v720H120Zm60-500h600v-160H180v160Zm220 220h160v-160H400v160Zm0 220h160v-160H400v160ZM180-400h160v-160H180v160Zm440 0h160v-160H620v160ZM180-180h160v-160H180v160Zm440 0h160v-160H620v160Z\"/>\n",
              "  </svg>\n",
              "    </button>\n",
              "\n",
              "  <style>\n",
              "    .colab-df-container {\n",
              "      display:flex;\n",
              "      gap: 12px;\n",
              "    }\n",
              "\n",
              "    .colab-df-convert {\n",
              "      background-color: #E8F0FE;\n",
              "      border: none;\n",
              "      border-radius: 50%;\n",
              "      cursor: pointer;\n",
              "      display: none;\n",
              "      fill: #1967D2;\n",
              "      height: 32px;\n",
              "      padding: 0 0 0 0;\n",
              "      width: 32px;\n",
              "    }\n",
              "\n",
              "    .colab-df-convert:hover {\n",
              "      background-color: #E2EBFA;\n",
              "      box-shadow: 0px 1px 2px rgba(60, 64, 67, 0.3), 0px 1px 3px 1px rgba(60, 64, 67, 0.15);\n",
              "      fill: #174EA6;\n",
              "    }\n",
              "\n",
              "    .colab-df-buttons div {\n",
              "      margin-bottom: 4px;\n",
              "    }\n",
              "\n",
              "    [theme=dark] .colab-df-convert {\n",
              "      background-color: #3B4455;\n",
              "      fill: #D2E3FC;\n",
              "    }\n",
              "\n",
              "    [theme=dark] .colab-df-convert:hover {\n",
              "      background-color: #434B5C;\n",
              "      box-shadow: 0px 1px 3px 1px rgba(0, 0, 0, 0.15);\n",
              "      filter: drop-shadow(0px 1px 2px rgba(0, 0, 0, 0.3));\n",
              "      fill: #FFFFFF;\n",
              "    }\n",
              "  </style>\n",
              "\n",
              "    <script>\n",
              "      const buttonEl =\n",
              "        document.querySelector('#df-d1f95691-530f-456e-9383-c0c67ecc0003 button.colab-df-convert');\n",
              "      buttonEl.style.display =\n",
              "        google.colab.kernel.accessAllowed ? 'block' : 'none';\n",
              "\n",
              "      async function convertToInteractive(key) {\n",
              "        const element = document.querySelector('#df-d1f95691-530f-456e-9383-c0c67ecc0003');\n",
              "        const dataTable =\n",
              "          await google.colab.kernel.invokeFunction('convertToInteractive',\n",
              "                                                    [key], {});\n",
              "        if (!dataTable) return;\n",
              "\n",
              "        const docLinkHtml = 'Like what you see? Visit the ' +\n",
              "          '<a target=\"_blank\" href=https://colab.research.google.com/notebooks/data_table.ipynb>data table notebook</a>'\n",
              "          + ' to learn more about interactive tables.';\n",
              "        element.innerHTML = '';\n",
              "        dataTable['output_type'] = 'display_data';\n",
              "        await google.colab.output.renderOutput(dataTable, element);\n",
              "        const docLink = document.createElement('div');\n",
              "        docLink.innerHTML = docLinkHtml;\n",
              "        element.appendChild(docLink);\n",
              "      }\n",
              "    </script>\n",
              "  </div>\n",
              "\n",
              "\n",
              "    <div id=\"df-37f951df-0063-46b6-b219-0376297fc56a\">\n",
              "      <button class=\"colab-df-quickchart\" onclick=\"quickchart('df-37f951df-0063-46b6-b219-0376297fc56a')\"\n",
              "                title=\"Suggest charts\"\n",
              "                style=\"display:none;\">\n",
              "\n",
              "<svg xmlns=\"http://www.w3.org/2000/svg\" height=\"24px\"viewBox=\"0 0 24 24\"\n",
              "     width=\"24px\">\n",
              "    <g>\n",
              "        <path d=\"M19 3H5c-1.1 0-2 .9-2 2v14c0 1.1.9 2 2 2h14c1.1 0 2-.9 2-2V5c0-1.1-.9-2-2-2zM9 17H7v-7h2v7zm4 0h-2V7h2v10zm4 0h-2v-4h2v4z\"/>\n",
              "    </g>\n",
              "</svg>\n",
              "      </button>\n",
              "\n",
              "<style>\n",
              "  .colab-df-quickchart {\n",
              "      --bg-color: #E8F0FE;\n",
              "      --fill-color: #1967D2;\n",
              "      --hover-bg-color: #E2EBFA;\n",
              "      --hover-fill-color: #174EA6;\n",
              "      --disabled-fill-color: #AAA;\n",
              "      --disabled-bg-color: #DDD;\n",
              "  }\n",
              "\n",
              "  [theme=dark] .colab-df-quickchart {\n",
              "      --bg-color: #3B4455;\n",
              "      --fill-color: #D2E3FC;\n",
              "      --hover-bg-color: #434B5C;\n",
              "      --hover-fill-color: #FFFFFF;\n",
              "      --disabled-bg-color: #3B4455;\n",
              "      --disabled-fill-color: #666;\n",
              "  }\n",
              "\n",
              "  .colab-df-quickchart {\n",
              "    background-color: var(--bg-color);\n",
              "    border: none;\n",
              "    border-radius: 50%;\n",
              "    cursor: pointer;\n",
              "    display: none;\n",
              "    fill: var(--fill-color);\n",
              "    height: 32px;\n",
              "    padding: 0;\n",
              "    width: 32px;\n",
              "  }\n",
              "\n",
              "  .colab-df-quickchart:hover {\n",
              "    background-color: var(--hover-bg-color);\n",
              "    box-shadow: 0 1px 2px rgba(60, 64, 67, 0.3), 0 1px 3px 1px rgba(60, 64, 67, 0.15);\n",
              "    fill: var(--button-hover-fill-color);\n",
              "  }\n",
              "\n",
              "  .colab-df-quickchart-complete:disabled,\n",
              "  .colab-df-quickchart-complete:disabled:hover {\n",
              "    background-color: var(--disabled-bg-color);\n",
              "    fill: var(--disabled-fill-color);\n",
              "    box-shadow: none;\n",
              "  }\n",
              "\n",
              "  .colab-df-spinner {\n",
              "    border: 2px solid var(--fill-color);\n",
              "    border-color: transparent;\n",
              "    border-bottom-color: var(--fill-color);\n",
              "    animation:\n",
              "      spin 1s steps(1) infinite;\n",
              "  }\n",
              "\n",
              "  @keyframes spin {\n",
              "    0% {\n",
              "      border-color: transparent;\n",
              "      border-bottom-color: var(--fill-color);\n",
              "      border-left-color: var(--fill-color);\n",
              "    }\n",
              "    20% {\n",
              "      border-color: transparent;\n",
              "      border-left-color: var(--fill-color);\n",
              "      border-top-color: var(--fill-color);\n",
              "    }\n",
              "    30% {\n",
              "      border-color: transparent;\n",
              "      border-left-color: var(--fill-color);\n",
              "      border-top-color: var(--fill-color);\n",
              "      border-right-color: var(--fill-color);\n",
              "    }\n",
              "    40% {\n",
              "      border-color: transparent;\n",
              "      border-right-color: var(--fill-color);\n",
              "      border-top-color: var(--fill-color);\n",
              "    }\n",
              "    60% {\n",
              "      border-color: transparent;\n",
              "      border-right-color: var(--fill-color);\n",
              "    }\n",
              "    80% {\n",
              "      border-color: transparent;\n",
              "      border-right-color: var(--fill-color);\n",
              "      border-bottom-color: var(--fill-color);\n",
              "    }\n",
              "    90% {\n",
              "      border-color: transparent;\n",
              "      border-bottom-color: var(--fill-color);\n",
              "    }\n",
              "  }\n",
              "</style>\n",
              "\n",
              "      <script>\n",
              "        async function quickchart(key) {\n",
              "          const quickchartButtonEl =\n",
              "            document.querySelector('#' + key + ' button');\n",
              "          quickchartButtonEl.disabled = true;  // To prevent multiple clicks.\n",
              "          quickchartButtonEl.classList.add('colab-df-spinner');\n",
              "          try {\n",
              "            const charts = await google.colab.kernel.invokeFunction(\n",
              "                'suggestCharts', [key], {});\n",
              "          } catch (error) {\n",
              "            console.error('Error during call to suggestCharts:', error);\n",
              "          }\n",
              "          quickchartButtonEl.classList.remove('colab-df-spinner');\n",
              "          quickchartButtonEl.classList.add('colab-df-quickchart-complete');\n",
              "        }\n",
              "        (() => {\n",
              "          let quickchartButtonEl =\n",
              "            document.querySelector('#df-37f951df-0063-46b6-b219-0376297fc56a button');\n",
              "          quickchartButtonEl.style.display =\n",
              "            google.colab.kernel.accessAllowed ? 'block' : 'none';\n",
              "        })();\n",
              "      </script>\n",
              "    </div>\n",
              "\n",
              "    </div>\n",
              "  </div>\n"
            ],
            "application/vnd.google.colaboratory.intrinsic+json": {
              "type": "dataframe",
              "summary": "{\n  \"name\": \"data\",\n  \"rows\": 9,\n  \"fields\": [\n    {\n      \"column\": \"count\",\n      \"properties\": {\n        \"dtype\": \"date\",\n        \"min\": \"25480\",\n        \"max\": \"25480\",\n        \"num_unique_values\": 1,\n        \"samples\": [\n          \"25480\"\n        ],\n        \"semantic_type\": \"\",\n        \"description\": \"\"\n      }\n    },\n    {\n      \"column\": \"unique\",\n      \"properties\": {\n        \"dtype\": \"date\",\n        \"min\": 2,\n        \"max\": 25480,\n        \"num_unique_values\": 5,\n        \"samples\": [\n          6\n        ],\n        \"semantic_type\": \"\",\n        \"description\": \"\"\n      }\n    },\n    {\n      \"column\": \"top\",\n      \"properties\": {\n        \"dtype\": \"string\",\n        \"num_unique_values\": 8,\n        \"samples\": [\n          \"Asia\"\n        ],\n        \"semantic_type\": \"\",\n        \"description\": \"\"\n      }\n    },\n    {\n      \"column\": \"freq\",\n      \"properties\": {\n        \"dtype\": \"date\",\n        \"min\": \"1\",\n        \"max\": \"22962\",\n        \"num_unique_values\": 9,\n        \"samples\": [\n          \"22773\"\n        ],\n        \"semantic_type\": \"\",\n        \"description\": \"\"\n      }\n    }\n  ]\n}"
            }
          },
          "metadata": {},
          "execution_count": 12
        }
      ]
    },
    {
      "cell_type": "markdown",
      "source": [
        "<span style=\"color: blue;\">**Observation**</span>\n",
        "\n",
        "* **case_id**: The `case_id` column contains 25480 unique values, which is equal to the total number of entries. This indicates that `case_id` is a unique identifier for each visa application and does not provide any meaningful information for predicting the `case_status`. Therefore, this column can be excluded from the analysis.\n",
        "* **case_status**: The `case_status` column shows a significant imbalance, with 'Certified' being the majority class (17018 occurrences) compared to the 'Denied' class. This class imbalance needs to be addressed during model building to prevent the model from being biased towards the majority class.\n",
        "* To gain further insights into the distribution of categorical features, we will examine the frequency counts of each unique value in the remaining categorical columns.\n"
      ],
      "metadata": {
        "id": "TeFMr_8XWwWh"
      },
      "id": "TeFMr_8XWwWh"
    },
    {
      "cell_type": "code",
      "source": [
        "# Drop case_id column\n",
        "data.drop(\"case_id\", axis=1, inplace=True)"
      ],
      "metadata": {
        "id": "jbl_TWa2cWdF"
      },
      "id": "jbl_TWa2cWdF",
      "execution_count": 13,
      "outputs": []
    },
    {
      "cell_type": "code",
      "source": [
        "# Print unique values and its count in each column\n",
        "for column in data.columns:\n",
        "  if data[column].dtype == 'category':\n",
        "    print(\"-\" * 20, column, \"-\" * 20)\n",
        "    print(data[column].value_counts())\n",
        "    print(\"-\" * 50)"
      ],
      "metadata": {
        "colab": {
          "base_uri": "https://localhost:8080/"
        },
        "id": "APhiidjla8jR",
        "outputId": "0c63e791-f907-4a74-8cbb-1b423d251686"
      },
      "id": "APhiidjla8jR",
      "execution_count": 14,
      "outputs": [
        {
          "output_type": "stream",
          "name": "stdout",
          "text": [
            "-------------------- continent --------------------\n",
            "continent\n",
            "Asia             16861\n",
            "Europe            3732\n",
            "North America     3292\n",
            "South America      852\n",
            "Africa             551\n",
            "Oceania            192\n",
            "Name: count, dtype: int64\n",
            "--------------------------------------------------\n",
            "-------------------- education_of_employee --------------------\n",
            "education_of_employee\n",
            "Bachelor's     10234\n",
            "Master's        9634\n",
            "High School     3420\n",
            "Doctorate       2192\n",
            "Name: count, dtype: int64\n",
            "--------------------------------------------------\n",
            "-------------------- has_job_experience --------------------\n",
            "has_job_experience\n",
            "Y    14802\n",
            "N    10678\n",
            "Name: count, dtype: int64\n",
            "--------------------------------------------------\n",
            "-------------------- requires_job_training --------------------\n",
            "requires_job_training\n",
            "N    22525\n",
            "Y     2955\n",
            "Name: count, dtype: int64\n",
            "--------------------------------------------------\n",
            "-------------------- region_of_employment --------------------\n",
            "region_of_employment\n",
            "Northeast    7195\n",
            "South        7017\n",
            "West         6586\n",
            "Midwest      4307\n",
            "Island        375\n",
            "Name: count, dtype: int64\n",
            "--------------------------------------------------\n",
            "-------------------- unit_of_wage --------------------\n",
            "unit_of_wage\n",
            "Year     22962\n",
            "Hour      2157\n",
            "Week       272\n",
            "Month       89\n",
            "Name: count, dtype: int64\n",
            "--------------------------------------------------\n",
            "-------------------- full_time_position --------------------\n",
            "full_time_position\n",
            "Y    22773\n",
            "N     2707\n",
            "Name: count, dtype: int64\n",
            "--------------------------------------------------\n",
            "-------------------- case_status --------------------\n",
            "case_status\n",
            "Certified    17018\n",
            "Denied        8462\n",
            "Name: count, dtype: int64\n",
            "--------------------------------------------------\n"
          ]
        }
      ]
    },
    {
      "cell_type": "markdown",
      "source": [
        "#### 3.5 - Check for duplicate values and missing values"
      ],
      "metadata": {
        "id": "eG1J0hWyOtyn"
      },
      "id": "eG1J0hWyOtyn"
    },
    {
      "cell_type": "code",
      "execution_count": 17,
      "id": "going-validation",
      "metadata": {
        "id": "going-validation",
        "colab": {
          "base_uri": "https://localhost:8080/"
        },
        "outputId": "e255553d-a2c6-4823-f744-f00090e0aefe"
      },
      "outputs": [
        {
          "output_type": "execute_result",
          "data": {
            "text/plain": [
              "np.int64(0)"
            ]
          },
          "metadata": {},
          "execution_count": 17
        }
      ],
      "source": [
        "# Checking for duplicate values\n",
        "data.duplicated().sum()"
      ]
    },
    {
      "cell_type": "code",
      "source": [
        "# Checking for missing values\n",
        "data.isnull().sum()"
      ],
      "metadata": {
        "colab": {
          "base_uri": "https://localhost:8080/",
          "height": 424
        },
        "id": "vzLlTKvLpBnD",
        "outputId": "3afc4bf1-93e1-4067-a1f2-32e301cde0c6"
      },
      "id": "vzLlTKvLpBnD",
      "execution_count": 18,
      "outputs": [
        {
          "output_type": "execute_result",
          "data": {
            "text/plain": [
              "continent                0\n",
              "education_of_employee    0\n",
              "has_job_experience       0\n",
              "requires_job_training    0\n",
              "no_of_employees          0\n",
              "yr_of_estab              0\n",
              "region_of_employment     0\n",
              "prevailing_wage          0\n",
              "unit_of_wage             0\n",
              "full_time_position       0\n",
              "case_status              0\n",
              "dtype: int64"
            ],
            "text/html": [
              "<div>\n",
              "<style scoped>\n",
              "    .dataframe tbody tr th:only-of-type {\n",
              "        vertical-align: middle;\n",
              "    }\n",
              "\n",
              "    .dataframe tbody tr th {\n",
              "        vertical-align: top;\n",
              "    }\n",
              "\n",
              "    .dataframe thead th {\n",
              "        text-align: right;\n",
              "    }\n",
              "</style>\n",
              "<table border=\"1\" class=\"dataframe\">\n",
              "  <thead>\n",
              "    <tr style=\"text-align: right;\">\n",
              "      <th></th>\n",
              "      <th>0</th>\n",
              "    </tr>\n",
              "  </thead>\n",
              "  <tbody>\n",
              "    <tr>\n",
              "      <th>continent</th>\n",
              "      <td>0</td>\n",
              "    </tr>\n",
              "    <tr>\n",
              "      <th>education_of_employee</th>\n",
              "      <td>0</td>\n",
              "    </tr>\n",
              "    <tr>\n",
              "      <th>has_job_experience</th>\n",
              "      <td>0</td>\n",
              "    </tr>\n",
              "    <tr>\n",
              "      <th>requires_job_training</th>\n",
              "      <td>0</td>\n",
              "    </tr>\n",
              "    <tr>\n",
              "      <th>no_of_employees</th>\n",
              "      <td>0</td>\n",
              "    </tr>\n",
              "    <tr>\n",
              "      <th>yr_of_estab</th>\n",
              "      <td>0</td>\n",
              "    </tr>\n",
              "    <tr>\n",
              "      <th>region_of_employment</th>\n",
              "      <td>0</td>\n",
              "    </tr>\n",
              "    <tr>\n",
              "      <th>prevailing_wage</th>\n",
              "      <td>0</td>\n",
              "    </tr>\n",
              "    <tr>\n",
              "      <th>unit_of_wage</th>\n",
              "      <td>0</td>\n",
              "    </tr>\n",
              "    <tr>\n",
              "      <th>full_time_position</th>\n",
              "      <td>0</td>\n",
              "    </tr>\n",
              "    <tr>\n",
              "      <th>case_status</th>\n",
              "      <td>0</td>\n",
              "    </tr>\n",
              "  </tbody>\n",
              "</table>\n",
              "</div><br><label><b>dtype:</b> int64</label>"
            ]
          },
          "metadata": {},
          "execution_count": 18
        }
      ]
    },
    {
      "cell_type": "markdown",
      "source": [
        "<span style=\"color: blue;\">**Observation**</span>\n",
        "\n",
        "* There are no duplicate entries in the dataset.\n",
        "* No missing values are present in any of the columns, which means imputation is not required.\n"
      ],
      "metadata": {
        "id": "HlYQkw45ain8"
      },
      "id": "HlYQkw45ain8"
    },
    {
      "cell_type": "markdown",
      "source": [
        "#### 3.6 - Fix negative values in no_of_employees column"
      ],
      "metadata": {
        "id": "20V8qNq6mmJM"
      },
      "id": "20V8qNq6mmJM"
    },
    {
      "cell_type": "code",
      "source": [
        "# Count the number of records where 'no_of_employees' is negative\n",
        "data.loc[data[\"no_of_employees\"] < 0].shape"
      ],
      "metadata": {
        "colab": {
          "base_uri": "https://localhost:8080/"
        },
        "id": "Mb_5oHvUmvTe",
        "outputId": "3ea64703-e03b-47d6-f2e5-70993da50ac5"
      },
      "id": "Mb_5oHvUmvTe",
      "execution_count": 19,
      "outputs": [
        {
          "output_type": "execute_result",
          "data": {
            "text/plain": [
              "(33, 11)"
            ]
          },
          "metadata": {},
          "execution_count": 19
        }
      ]
    },
    {
      "cell_type": "code",
      "source": [
        "# Convert the negative values into absolute numbers\n",
        "data[\"no_of_employees\"] = data[\"no_of_employees\"].abs()"
      ],
      "metadata": {
        "id": "HxbvAaDwobYl"
      },
      "id": "HxbvAaDwobYl",
      "execution_count": 20,
      "outputs": []
    },
    {
      "cell_type": "markdown",
      "id": "standing-horizontal",
      "metadata": {
        "id": "standing-horizontal"
      },
      "source": [
        "## 4 - Exploratory Data Analysis (EDA)"
      ]
    },
    {
      "cell_type": "markdown",
      "source": [
        "### 4.1 - Define utility functions for Univariate Analysis"
      ],
      "metadata": {
        "id": "Iiy7nEYuwVAw"
      },
      "id": "Iiy7nEYuwVAw"
    },
    {
      "cell_type": "code",
      "source": [
        "# Function to plot histogram and box plot\n",
        "def histogram_boxplot(data, feature, figsize=(15, 10), kde=False, bins=None):\n",
        "    \"\"\"\n",
        "    Boxplot and histogram combined\n",
        "\n",
        "    data: dataframe\n",
        "    feature: dataframe column\n",
        "    figsize: size of figure (default (15,10))\n",
        "    kde: whether to show the density curve (default False)\n",
        "    bins: number of bins for histogram (default None)\n",
        "    \"\"\"\n",
        "    f2, (ax_box2, ax_hist2) = plt.subplots(\n",
        "        nrows=2,  # Number of rows of the subplot grid= 2\n",
        "        sharex=True,  # x-axis will be shared among all subplots\n",
        "        gridspec_kw={\"height_ratios\": (0.25, 0.75)},\n",
        "        figsize=figsize,\n",
        "    )\n",
        "\n",
        "    # creating the 2 subplots\n",
        "    # boxplot will be created and a triangle will indicate the mean value of the column\n",
        "    sns.boxplot(\n",
        "        data=data, x=feature, ax=ax_box2, showmeans=True, color=\"turquoise\"\n",
        "    )\n",
        "\n",
        "    # For histogram\n",
        "    sns.histplot(\n",
        "        data=data, x=feature, kde=kde, ax=ax_hist2, bins=bins\n",
        "    ) if bins else sns.histplot(\n",
        "        data=data, x=feature, kde=kde, ax=ax_hist2\n",
        "    )\n",
        "    # Add mean to the histogram\n",
        "    ax_hist2.axvline(\n",
        "        data[feature].mean(), color=\"green\", linestyle=\"--\", label = 'Mean'\n",
        "    )\n",
        "    # Add median to the histogram\n",
        "    ax_hist2.axvline(\n",
        "        data[feature].median(), color=\"orange\", linestyle=\"-\", label = 'Median'\n",
        "    )\n",
        "    ax_hist2.legend() # Add legend to the histogram"
      ],
      "metadata": {
        "id": "i50v5GWTxkmi"
      },
      "id": "i50v5GWTxkmi",
      "execution_count": 21,
      "outputs": []
    },
    {
      "cell_type": "code",
      "source": [
        "# function to create labeled barplots\n",
        "def labeled_barplot(data, feature, perc=False, n=None):\n",
        "    \"\"\"\n",
        "    Barplot with percentage at the top\n",
        "\n",
        "    data: dataframe\n",
        "    feature: dataframe column\n",
        "    perc: whether to display percentages instead of count (default is False)\n",
        "    n: displays the top n category levels (default is None, i.e., display all levels)\n",
        "    \"\"\"\n",
        "\n",
        "    total = len(data[feature])  # length of the column\n",
        "    count = data[feature].nunique()\n",
        "    if n is None:\n",
        "        plt.figure(figsize=(count + 1, 5))\n",
        "    else:\n",
        "        plt.figure(figsize=(n + 1, 5))\n",
        "\n",
        "    plt.xticks(rotation=90, fontsize=15)\n",
        "    ax = sns.countplot(\n",
        "        data=data,\n",
        "        x=feature,\n",
        "        palette=\"Paired\",\n",
        "        order=data[feature].value_counts().index[:n].sort_values(),\n",
        "    )\n",
        "\n",
        "    for p in ax.patches:\n",
        "        if perc == True:\n",
        "            label = \"{:.1f}%\".format(\n",
        "                100 * p.get_height() / total\n",
        "            )  # percentage of each class of the category\n",
        "        else:\n",
        "            label = p.get_height()  # count of each level of the category\n",
        "\n",
        "        x = p.get_x() + p.get_width() / 2  # width of the plot\n",
        "        y = p.get_height()  # height of the plot\n",
        "\n",
        "        ax.annotate(\n",
        "            label,\n",
        "            (x, y),\n",
        "            ha=\"center\",\n",
        "            va=\"center\",\n",
        "            size=12,\n",
        "            xytext=(0, 5),\n",
        "            textcoords=\"offset points\",\n",
        "        )  # annotate the percentage\n",
        "\n",
        "    plt.show()  # show the plot"
      ],
      "metadata": {
        "id": "8hXb-NbNxpuF"
      },
      "id": "8hXb-NbNxpuF",
      "execution_count": 22,
      "outputs": []
    },
    {
      "cell_type": "markdown",
      "id": "wooden-christian",
      "metadata": {
        "id": "wooden-christian"
      },
      "source": [
        "### 4.2 - Univariate Analysis"
      ]
    },
    {
      "cell_type": "markdown",
      "source": [
        "#### 4.2.1 - Observation on continent"
      ],
      "metadata": {
        "id": "_ACzEpT-88sj"
      },
      "id": "_ACzEpT-88sj"
    },
    {
      "cell_type": "code",
      "source": [
        "labeled_barplot(data, \"continent\", perc=True)"
      ],
      "metadata": {
        "colab": {
          "base_uri": "https://localhost:8080/",
          "height": 604
        },
        "id": "hnzY8l5F9UZ6",
        "outputId": "5f16e3a1-abcc-468a-e526-cbfb4f66e73a"
      },
      "id": "hnzY8l5F9UZ6",
      "execution_count": 23,
      "outputs": [
        {
          "output_type": "display_data",
          "data": {
            "text/plain": [
              "<Figure size 700x500 with 1 Axes>"
            ],
            "image/png": "[encoded data removed]"
          },
          "metadata": {}
        }
      ]
    },
    {
      "cell_type": "markdown",
      "source": [
        "<span style=\"color: blue;\">**Observation**</span>\n",
        "\n",
        "* The applicants from Asia is the largest proportion in the dataset. This imbalance may need to be considered during model training, potentially through techniques like stratified sampling, to ensure the model does not overfit to the majority class or underperform on minority continents\n"
      ],
      "metadata": {
        "id": "Sq1MxUDSCFVF"
      },
      "id": "Sq1MxUDSCFVF"
    },
    {
      "cell_type": "markdown",
      "id": "editorial-command",
      "metadata": {
        "id": "editorial-command"
      },
      "source": [
        "#### 4.2.2 - Observation on education_of_employee"
      ]
    },
    {
      "cell_type": "code",
      "execution_count": 24,
      "id": "express-harrison",
      "metadata": {
        "id": "express-harrison",
        "colab": {
          "base_uri": "https://localhost:8080/",
          "height": 575
        },
        "outputId": "32e0d3f5-0836-4b66-988e-fae3f2e8e231"
      },
      "outputs": [
        {
          "output_type": "display_data",
          "data": {
            "text/plain": [
              "<Figure size 500x500 with 1 Axes>"
            ],
            "image/png": "[encoded data removed]"
          },
          "metadata": {}
        }
      ],
      "source": [
        "labeled_barplot(data, \"education_of_employee\", perc=True)"
      ]
    },
    {
      "cell_type": "markdown",
      "source": [
        "<span style=\"color: blue;\">**Observation**</span>\n",
        "\n",
        "The dataset exhibits a higher frequency of applicants holding Bachelor's and Master's degrees compared to High School diplomas or Doctorates."
      ],
      "metadata": {
        "id": "gde7wLt2Dhlu"
      },
      "id": "gde7wLt2Dhlu"
    },
    {
      "cell_type": "markdown",
      "id": "forbidden-kidney",
      "metadata": {
        "id": "forbidden-kidney"
      },
      "source": [
        "#### 4.2.3 - Observation on has_job_experience"
      ]
    },
    {
      "cell_type": "code",
      "execution_count": 25,
      "id": "exterior-rings",
      "metadata": {
        "id": "exterior-rings",
        "colab": {
          "base_uri": "https://localhost:8080/",
          "height": 466
        },
        "outputId": "0d444c83-2747-4d59-d519-8990af3be776"
      },
      "outputs": [
        {
          "output_type": "display_data",
          "data": {
            "text/plain": [
              "<Figure size 300x500 with 1 Axes>"
            ],
            "image/png": "[encoded data removed]"
          },
          "metadata": {}
        }
      ],
      "source": [
        "labeled_barplot(data, 'has_job_experience', perc=True)"
      ]
    },
    {
      "cell_type": "markdown",
      "source": [
        "<span style=\"color: blue;\">**Observation**</span>\n",
        "\n",
        "* More applicants have job experience."
      ],
      "metadata": {
        "id": "fdP14jnXE6P_"
      },
      "id": "fdP14jnXE6P_"
    },
    {
      "cell_type": "markdown",
      "source": [
        "#### 4.2.4 - Observation on requires_job_training"
      ],
      "metadata": {
        "id": "YJkPVIYd-DWF"
      },
      "id": "YJkPVIYd-DWF"
    },
    {
      "cell_type": "code",
      "source": [
        "labeled_barplot(data, 'requires_job_training', perc=True)"
      ],
      "metadata": {
        "colab": {
          "base_uri": "https://localhost:8080/",
          "height": 466
        },
        "id": "NtqJ1Kck-K08",
        "outputId": "ba9d10e2-1a5a-4b88-ca6b-ee4039a2a91c"
      },
      "id": "NtqJ1Kck-K08",
      "execution_count": 26,
      "outputs": [
        {
          "output_type": "display_data",
          "data": {
            "text/plain": [
              "<Figure size 300x500 with 1 Axes>"
            ],
            "image/png": "[encoded data removed]"
          },
          "metadata": {}
        }
      ]
    },
    {
      "cell_type": "markdown",
      "source": [
        "<span style=\"color: blue;\">**Observation**</span>\n",
        "\n",
        "* More applicants do not require any job training."
      ],
      "metadata": {
        "id": "jBRYmEs0FPQO"
      },
      "id": "jBRYmEs0FPQO"
    },
    {
      "cell_type": "markdown",
      "source": [
        "#### 4.2.5 - Observation on no_of_employees"
      ],
      "metadata": {
        "id": "0O0k3bFG-UaU"
      },
      "id": "0O0k3bFG-UaU"
    },
    {
      "cell_type": "code",
      "source": [
        "data[\"no_of_employees\"].describe()"
      ],
      "metadata": {
        "colab": {
          "base_uri": "https://localhost:8080/",
          "height": 331
        },
        "id": "TAaXcQYq_IsC",
        "outputId": "24839165-2daf-4d77-bff0-d1d46b9761b3"
      },
      "id": "TAaXcQYq_IsC",
      "execution_count": 27,
      "outputs": [
        {
          "output_type": "execute_result",
          "data": {
            "text/plain": [
              "count     25480.000000\n",
              "mean       5667.089207\n",
              "std       22877.917453\n",
              "min          11.000000\n",
              "25%        1022.000000\n",
              "50%        2109.000000\n",
              "75%        3504.000000\n",
              "max      602069.000000\n",
              "Name: no_of_employees, dtype: float64"
            ],
            "text/html": [
              "<div>\n",
              "<style scoped>\n",
              "    .dataframe tbody tr th:only-of-type {\n",
              "        vertical-align: middle;\n",
              "    }\n",
              "\n",
              "    .dataframe tbody tr th {\n",
              "        vertical-align: top;\n",
              "    }\n",
              "\n",
              "    .dataframe thead th {\n",
              "        text-align: right;\n",
              "    }\n",
              "</style>\n",
              "<table border=\"1\" class=\"dataframe\">\n",
              "  <thead>\n",
              "    <tr style=\"text-align: right;\">\n",
              "      <th></th>\n",
              "      <th>no_of_employees</th>\n",
              "    </tr>\n",
              "  </thead>\n",
              "  <tbody>\n",
              "    <tr>\n",
              "      <th>count</th>\n",
              "      <td>25480.000000</td>\n",
              "    </tr>\n",
              "    <tr>\n",
              "      <th>mean</th>\n",
              "      <td>5667.089207</td>\n",
              "    </tr>\n",
              "    <tr>\n",
              "      <th>std</th>\n",
              "      <td>22877.917453</td>\n",
              "    </tr>\n",
              "    <tr>\n",
              "      <th>min</th>\n",
              "      <td>11.000000</td>\n",
              "    </tr>\n",
              "    <tr>\n",
              "      <th>25%</th>\n",
              "      <td>1022.000000</td>\n",
              "    </tr>\n",
              "    <tr>\n",
              "      <th>50%</th>\n",
              "      <td>2109.000000</td>\n",
              "    </tr>\n",
              "    <tr>\n",
              "      <th>75%</th>\n",
              "      <td>3504.000000</td>\n",
              "    </tr>\n",
              "    <tr>\n",
              "      <th>max</th>\n",
              "      <td>602069.000000</td>\n",
              "    </tr>\n",
              "  </tbody>\n",
              "</table>\n",
              "</div><br><label><b>dtype:</b> float64</label>"
            ]
          },
          "metadata": {},
          "execution_count": 27
        }
      ]
    },
    {
      "cell_type": "code",
      "source": [
        "histogram_boxplot(data, \"no_of_employees\", kde=True, bins=None)"
      ],
      "metadata": {
        "colab": {
          "base_uri": "https://localhost:8080/",
          "height": 850
        },
        "id": "CkFeZFha-c_q",
        "outputId": "77def25b-3535-446c-f94d-db26de743a02"
      },
      "id": "CkFeZFha-c_q",
      "execution_count": 29,
      "outputs": [
        {
          "output_type": "display_data",
          "data": {
            "text/plain": [
              "<Figure size 1500x1000 with 2 Axes>"
            ],
            "image/png": "[encoded data removed]"
          },
          "metadata": {}
        }
      ]
    },
    {
      "cell_type": "markdown",
      "source": [
        "<span style=\"color: blue;\">**Observation**</span>\n",
        "\n",
        "* As previously observed, the no_of_employees distribution is heavily skewed to the right. Due to this skewness and the presence of outliers, direct inference from the histogram and boxplot is limited."
      ],
      "metadata": {
        "id": "u5sKEVl5Fe77"
      },
      "id": "u5sKEVl5Fe77"
    },
    {
      "cell_type": "markdown",
      "source": [
        "#### 4.2.6 - Observation on yr_of_estab"
      ],
      "metadata": {
        "id": "cied3v-0_f_9"
      },
      "id": "cied3v-0_f_9"
    },
    {
      "cell_type": "code",
      "source": [
        "data[\"yr_of_estab\"].describe()"
      ],
      "metadata": {
        "colab": {
          "base_uri": "https://localhost:8080/",
          "height": 331
        },
        "id": "QESlOz1eKSDH",
        "outputId": "27345450-0389-470f-8834-6c9d70550757"
      },
      "id": "QESlOz1eKSDH",
      "execution_count": 30,
      "outputs": [
        {
          "output_type": "execute_result",
          "data": {
            "text/plain": [
              "count    25480.000000\n",
              "mean      1979.409929\n",
              "std         42.366929\n",
              "min       1800.000000\n",
              "25%       1976.000000\n",
              "50%       1997.000000\n",
              "75%       2005.000000\n",
              "max       2016.000000\n",
              "Name: yr_of_estab, dtype: float64"
            ],
            "text/html": [
              "<div>\n",
              "<style scoped>\n",
              "    .dataframe tbody tr th:only-of-type {\n",
              "        vertical-align: middle;\n",
              "    }\n",
              "\n",
              "    .dataframe tbody tr th {\n",
              "        vertical-align: top;\n",
              "    }\n",
              "\n",
              "    .dataframe thead th {\n",
              "        text-align: right;\n",
              "    }\n",
              "</style>\n",
              "<table border=\"1\" class=\"dataframe\">\n",
              "  <thead>\n",
              "    <tr style=\"text-align: right;\">\n",
              "      <th></th>\n",
              "      <th>yr_of_estab</th>\n",
              "    </tr>\n",
              "  </thead>\n",
              "  <tbody>\n",
              "    <tr>\n",
              "      <th>count</th>\n",
              "      <td>25480.000000</td>\n",
              "    </tr>\n",
              "    <tr>\n",
              "      <th>mean</th>\n",
              "      <td>1979.409929</td>\n",
              "    </tr>\n",
              "    <tr>\n",
              "      <th>std</th>\n",
              "      <td>42.366929</td>\n",
              "    </tr>\n",
              "    <tr>\n",
              "      <th>min</th>\n",
              "      <td>1800.000000</td>\n",
              "    </tr>\n",
              "    <tr>\n",
              "      <th>25%</th>\n",
              "      <td>1976.000000</td>\n",
              "    </tr>\n",
              "    <tr>\n",
              "      <th>50%</th>\n",
              "      <td>1997.000000</td>\n",
              "    </tr>\n",
              "    <tr>\n",
              "      <th>75%</th>\n",
              "      <td>2005.000000</td>\n",
              "    </tr>\n",
              "    <tr>\n",
              "      <th>max</th>\n",
              "      <td>2016.000000</td>\n",
              "    </tr>\n",
              "  </tbody>\n",
              "</table>\n",
              "</div><br><label><b>dtype:</b> float64</label>"
            ]
          },
          "metadata": {},
          "execution_count": 30
        }
      ]
    },
    {
      "cell_type": "code",
      "source": [
        "histogram_boxplot(data, \"yr_of_estab\", kde=True, bins=None)"
      ],
      "metadata": {
        "colab": {
          "base_uri": "https://localhost:8080/",
          "height": 850
        },
        "id": "0SI2z7SX_me2",
        "outputId": "3207c5b7-684c-4ca7-d99d-7f5665954346"
      },
      "id": "0SI2z7SX_me2",
      "execution_count": 31,
      "outputs": [
        {
          "output_type": "display_data",
          "data": {
            "text/plain": [
              "<Figure size 1500x1000 with 2 Axes>"
            ],
            "image/png": "[encoded data removed]"
          },
          "metadata": {}
        }
      ]
    },
    {
      "cell_type": "markdown",
      "source": [
        "<span style=\"color: blue;\">**Observation**</span>\n",
        "\n",
        "* As previously observed, the yr_of_estab distribution is heavily left-skewed and contains outliers, suggesting that older establishments are less frequent in the dataset."
      ],
      "metadata": {
        "id": "Hu8ygl7qKF4U"
      },
      "id": "Hu8ygl7qKF4U"
    },
    {
      "cell_type": "markdown",
      "id": "attempted-burlington",
      "metadata": {
        "id": "attempted-burlington"
      },
      "source": [
        "#### 4.2.7 - Observation on region_of_employment"
      ]
    },
    {
      "cell_type": "code",
      "execution_count": 32,
      "id": "suited-tuner",
      "metadata": {
        "id": "suited-tuner",
        "colab": {
          "base_uri": "https://localhost:8080/",
          "height": 554
        },
        "outputId": "122281d0-3bef-4fc1-ae76-7abef1f2face"
      },
      "outputs": [
        {
          "output_type": "display_data",
          "data": {
            "text/plain": [
              "<Figure size 600x500 with 1 Axes>"
            ],
            "image/png": "[encoded data removed]"
          },
          "metadata": {}
        }
      ],
      "source": [
        "labeled_barplot(data, 'region_of_employment', perc=True)"
      ]
    },
    {
      "cell_type": "markdown",
      "source": [
        "<span style=\"color: blue;\">**Observation**</span>\n",
        "\n",
        "* The majority of foreign workers are employed in the Northeast, South, and West regions of the United States.\n",
        "* The Midwest region has a lower number of foreign worker placements compared to the Northeast, South, and West.\n",
        "* The Island region shows a significantly lower number of foreign worker placements compared to all other regions."
      ],
      "metadata": {
        "id": "Tc0-UkgD_2lO"
      },
      "id": "Tc0-UkgD_2lO"
    },
    {
      "cell_type": "markdown",
      "source": [
        "#### 4.2.8 - Observation on prevailing_wage"
      ],
      "metadata": {
        "id": "TAlvnT2MAW4o"
      },
      "id": "TAlvnT2MAW4o"
    },
    {
      "cell_type": "code",
      "source": [
        "data['prevailing_wage'].describe()"
      ],
      "metadata": {
        "colab": {
          "base_uri": "https://localhost:8080/",
          "height": 331
        },
        "id": "QOwztUdwBVf2",
        "outputId": "a292cc36-63ef-4542-b1ec-0be33da9c59c"
      },
      "id": "QOwztUdwBVf2",
      "execution_count": 34,
      "outputs": [
        {
          "output_type": "execute_result",
          "data": {
            "text/plain": [
              "count     25480.000000\n",
              "mean      74455.814592\n",
              "std       52815.942327\n",
              "min           2.136700\n",
              "25%       34015.480000\n",
              "50%       70308.210000\n",
              "75%      107735.512500\n",
              "max      319210.270000\n",
              "Name: prevailing_wage, dtype: float64"
            ],
            "text/html": [
              "<div>\n",
              "<style scoped>\n",
              "    .dataframe tbody tr th:only-of-type {\n",
              "        vertical-align: middle;\n",
              "    }\n",
              "\n",
              "    .dataframe tbody tr th {\n",
              "        vertical-align: top;\n",
              "    }\n",
              "\n",
              "    .dataframe thead th {\n",
              "        text-align: right;\n",
              "    }\n",
              "</style>\n",
              "<table border=\"1\" class=\"dataframe\">\n",
              "  <thead>\n",
              "    <tr style=\"text-align: right;\">\n",
              "      <th></th>\n",
              "      <th>prevailing_wage</th>\n",
              "    </tr>\n",
              "  </thead>\n",
              "  <tbody>\n",
              "    <tr>\n",
              "      <th>count</th>\n",
              "      <td>25480.000000</td>\n",
              "    </tr>\n",
              "    <tr>\n",
              "      <th>mean</th>\n",
              "      <td>74455.814592</td>\n",
              "    </tr>\n",
              "    <tr>\n",
              "      <th>std</th>\n",
              "      <td>52815.942327</td>\n",
              "    </tr>\n",
              "    <tr>\n",
              "      <th>min</th>\n",
              "      <td>2.136700</td>\n",
              "    </tr>\n",
              "    <tr>\n",
              "      <th>25%</th>\n",
              "      <td>34015.480000</td>\n",
              "    </tr>\n",
              "    <tr>\n",
              "      <th>50%</th>\n",
              "      <td>70308.210000</td>\n",
              "    </tr>\n",
              "    <tr>\n",
              "      <th>75%</th>\n",
              "      <td>107735.512500</td>\n",
              "    </tr>\n",
              "    <tr>\n",
              "      <th>max</th>\n",
              "      <td>319210.270000</td>\n",
              "    </tr>\n",
              "  </tbody>\n",
              "</table>\n",
              "</div><br><label><b>dtype:</b> float64</label>"
            ]
          },
          "metadata": {},
          "execution_count": 34
        }
      ]
    },
    {
      "cell_type": "code",
      "source": [
        "histogram_boxplot(data, \"prevailing_wage\", kde=True, bins=None)"
      ],
      "metadata": {
        "colab": {
          "base_uri": "https://localhost:8080/",
          "height": 850
        },
        "id": "Ux4uF_RLAfcY",
        "outputId": "bcf7d752-60b2-4355-a96e-24ee1c686e04"
      },
      "id": "Ux4uF_RLAfcY",
      "execution_count": 35,
      "outputs": [
        {
          "output_type": "display_data",
          "data": {
            "text/plain": [
              "<Figure size 1500x1000 with 2 Axes>"
            ],
            "image/png": "[encoded data removed]"
          },
          "metadata": {}
        }
      ]
    },
    {
      "cell_type": "markdown",
      "source": [
        "<span style=\"color: blue;\">**Observation**</span>\n",
        "\n",
        "* As observed earlier, range of values in prevailing_wage is large. The wide range is expected due to the different units of wage (unit_of_wage).\n",
        "* We'll not normalize the prevailing_wage column into any common unit, since we do not know the exact number of working hours for each unit_of_wage. This is useful to derive insights between the unit_of _wage and case_status columns."
      ],
      "metadata": {
        "id": "ZCJ3iHk-BjZR"
      },
      "id": "ZCJ3iHk-BjZR"
    },
    {
      "cell_type": "markdown",
      "source": [
        "#### 4.2.9 - Observation on unit_of_wage"
      ],
      "metadata": {
        "id": "ti4j8PUsAuOS"
      },
      "id": "ti4j8PUsAuOS"
    },
    {
      "cell_type": "code",
      "source": [
        "labeled_barplot(data, 'unit_of_wage', perc=True)"
      ],
      "metadata": {
        "colab": {
          "base_uri": "https://localhost:8080/",
          "height": 516
        },
        "id": "TkEkWXiOA6Ku",
        "outputId": "f52bde93-3eee-416b-a2be-841ca2306a0c"
      },
      "id": "TkEkWXiOA6Ku",
      "execution_count": 36,
      "outputs": [
        {
          "output_type": "display_data",
          "data": {
            "text/plain": [
              "<Figure size 500x500 with 1 Axes>"
            ],
            "image/png": "[encoded data removed]"
          },
          "metadata": {}
        }
      ]
    },
    {
      "cell_type": "markdown",
      "source": [
        "<span style=\"color: blue;\">**Observation**</span>\n",
        "\n",
        "*  The vast majority (90%) of entries in the dataset indicate the `unit_of_wage` as 'Yearly'."
      ],
      "metadata": {
        "id": "joiFtPxwDJHm"
      },
      "id": "joiFtPxwDJHm"
    },
    {
      "cell_type": "markdown",
      "source": [
        "#### 4.2.10 - Observation on full_time_position"
      ],
      "metadata": {
        "id": "9hEubw20A_SM"
      },
      "id": "9hEubw20A_SM"
    },
    {
      "cell_type": "code",
      "source": [
        "labeled_barplot(data, 'full_time_position', perc=True)"
      ],
      "metadata": {
        "colab": {
          "base_uri": "https://localhost:8080/",
          "height": 466
        },
        "id": "f_fdR7w9BI_C",
        "outputId": "6a59a29d-3551-4b6b-fae5-f4e66374ef83"
      },
      "id": "f_fdR7w9BI_C",
      "execution_count": 37,
      "outputs": [
        {
          "output_type": "display_data",
          "data": {
            "text/plain": [
              "<Figure size 300x500 with 1 Axes>"
            ],
            "image/png": "[encoded data removed]"
          },
          "metadata": {}
        }
      ]
    },
    {
      "cell_type": "markdown",
      "source": [
        "<span style=\"color: blue;\">**Observation**</span>\n",
        "\n",
        "*  89.4% of applications are for full time positions."
      ],
      "metadata": {
        "id": "89ubkWxRD2mq"
      },
      "id": "89ubkWxRD2mq"
    },
    {
      "cell_type": "markdown",
      "id": "stunning-surrey",
      "metadata": {
        "id": "stunning-surrey"
      },
      "source": [
        "#### 4.2.11 - Observations on case status"
      ]
    },
    {
      "cell_type": "code",
      "execution_count": 38,
      "id": "potential-stroke",
      "metadata": {
        "id": "potential-stroke",
        "colab": {
          "base_uri": "https://localhost:8080/",
          "height": 540
        },
        "outputId": "91380ecb-4474-4458-eb26-2fa4c10f987f"
      },
      "outputs": [
        {
          "output_type": "display_data",
          "data": {
            "text/plain": [
              "<Figure size 300x500 with 1 Axes>"
            ],
            "image/png": "[encoded data removed]"
          },
          "metadata": {}
        }
      ],
      "source": [
        "labeled_barplot(data, 'case_status', perc=True)"
      ]
    },
    {
      "cell_type": "markdown",
      "source": [
        "<span style=\"color: blue;\">**Observation**</span>\n",
        "\n",
        "*  66.8% of outcome on applications is visa certified showing imbalance in the data to watch out while modeling."
      ],
      "metadata": {
        "id": "nftpfcj1EDRs"
      },
      "id": "nftpfcj1EDRs"
    },
    {
      "cell_type": "markdown",
      "source": [
        "### 4.2 - Define utility functions for Bivariate analysis"
      ],
      "metadata": {
        "id": "hztactXdExaX"
      },
      "id": "hztactXdExaX"
    },
    {
      "cell_type": "code",
      "execution_count": null,
      "id": "adaptive-recipient",
      "metadata": {
        "id": "adaptive-recipient"
      },
      "outputs": [],
      "source": [
        "### function to plot distributions wrt target\n",
        "\n",
        "def distribution_plot_wrt_target(data, predictor, target):\n",
        "\n",
        "    fig, axs = plt.subplots(2, 2, figsize=(12, 10))\n",
        "\n",
        "    target_uniq = data[target].unique()\n",
        "\n",
        "    axs[0, 0].set_title(\"Distribution of target for target=\" + str(target_uniq[0]))\n",
        "    sns.histplot(\n",
        "        data=data[data[target] == target_uniq[0]],\n",
        "        x=predictor,\n",
        "        kde=True,\n",
        "        ax=axs[0, 0],\n",
        "        color=\"teal\",\n",
        "        stat=\"density\",\n",
        "    )\n",
        "\n",
        "    axs[0, 1].set_title(\"Distribution of target for target=\" + str(target_uniq[1]))\n",
        "    sns.histplot(\n",
        "        data=data[data[target] == target_uniq[1]],\n",
        "        x=predictor,\n",
        "        kde=True,\n",
        "        ax=axs[0, 1],\n",
        "        color=\"orange\",\n",
        "        stat=\"density\",\n",
        "    )\n",
        "\n",
        "    axs[1, 0].set_title(\"Boxplot w.r.t target\")\n",
        "    sns.boxplot(data=data, x=target, y=predictor, ax=axs[1, 0], palette=\"gist_rainbow\")\n",
        "\n",
        "    axs[1, 1].set_title(\"Boxplot (without outliers) w.r.t target\")\n",
        "    sns.boxplot(\n",
        "        data=data,\n",
        "        x=target,\n",
        "        y=predictor,\n",
        "        ax=axs[1, 1],\n",
        "        showfliers=False,\n",
        "        palette=\"gist_rainbow\",\n",
        "    )\n",
        "\n",
        "    plt.tight_layout()\n",
        "    plt.show()"
      ]
    },
    {
      "cell_type": "code",
      "execution_count": null,
      "id": "third-sheriff",
      "metadata": {
        "id": "third-sheriff"
      },
      "outputs": [],
      "source": [
        "def stacked_barplot(data, predictor, target):\n",
        "    \"\"\"\n",
        "    Print the category counts and plot a stacked bar chart\n",
        "\n",
        "    data: dataframe\n",
        "    predictor: independent variable\n",
        "    target: target variable\n",
        "    \"\"\"\n",
        "    count = data[predictor].nunique()\n",
        "    sorter = data[target].value_counts().index[-1]\n",
        "    tab1 = pd.crosstab(data[predictor], data[target], margins=True).sort_values(\n",
        "        by=sorter, ascending=False\n",
        "    )\n",
        "    print(tab1)\n",
        "    print(\"-\" * 120)\n",
        "    tab = pd.crosstab(data[predictor], data[target], normalize=\"index\").sort_values(\n",
        "        by=sorter, ascending=False\n",
        "    )\n",
        "    tab.plot(kind=\"bar\", stacked=True, figsize=(count + 5, 5))\n",
        "    plt.legend(\n",
        "        loc=\"lower left\", frameon=False,\n",
        "    )\n",
        "    plt.legend(loc=\"upper left\", bbox_to_anchor=(1, 1))\n",
        "    plt.show()"
      ]
    },
    {
      "cell_type": "markdown",
      "id": "equivalent-aging",
      "metadata": {
        "id": "equivalent-aging"
      },
      "source": [
        "### 4.3 - Bivariate Analysis"
      ]
    },
    {
      "cell_type": "code",
      "execution_count": null,
      "id": "social-wagner",
      "metadata": {
        "id": "social-wagner"
      },
      "outputs": [],
      "source": [
        "cols_list = data.select_dtypes(include=np.number).columns.tolist()\n",
        "\n",
        "plt.figure(figsize=(10, 5))\n",
        "sns.heatmap(\n",
        "    data[cols_list]._____, annot=True, vmin=-1, vmax=1, fmt=\".2f\", cmap=\"Spectral\"\n",
        ") ## Complete the code to find the correlation between the variables\n",
        "plt.show()"
      ]
    },
    {
      "cell_type": "markdown",
      "id": "dressed-excuse",
      "metadata": {
        "id": "dressed-excuse"
      },
      "source": [
        "#### Those with higher education may want to travel abroad for a well-paid job. Let's find out if education has any impact on visa certification"
      ]
    },
    {
      "cell_type": "code",
      "execution_count": null,
      "id": "special-florist",
      "metadata": {
        "id": "special-florist"
      },
      "outputs": [],
      "source": [
        "stacked_barplot(data, \"education_of_employee\", \"case_status\")"
      ]
    },
    {
      "cell_type": "markdown",
      "id": "attended-current",
      "metadata": {
        "id": "attended-current"
      },
      "source": [
        "#### Lets' similarly check for the continents and find out how the visa status vary across different continents."
      ]
    },
    {
      "cell_type": "code",
      "execution_count": null,
      "id": "alive-bloom",
      "metadata": {
        "id": "alive-bloom"
      },
      "outputs": [],
      "source": [
        "stacked_barplot('_____') ## Complete the code to plot stacked barplot for region of continent and case status"
      ]
    },
    {
      "cell_type": "markdown",
      "id": "macro-decrease",
      "metadata": {
        "id": "macro-decrease"
      },
      "source": [
        "#### Experienced professionals might look abroad for opportunities to improve their lifestyles and career development. Let's see if having work experience has any influence over visa certification"
      ]
    },
    {
      "cell_type": "code",
      "execution_count": null,
      "id": "divine-dimension",
      "metadata": {
        "id": "divine-dimension"
      },
      "outputs": [],
      "source": [
        "stacked_barplot('_____') ## Complete the code to plot stacked barplot for region of case_status and has_job_experience"
      ]
    },
    {
      "cell_type": "markdown",
      "id": "changing-kansas",
      "metadata": {
        "id": "changing-kansas"
      },
      "source": [
        "#### Checking if the prevailing wage is similar across all the regions of the US"
      ]
    },
    {
      "cell_type": "code",
      "execution_count": null,
      "id": "dangerous-pride",
      "metadata": {
        "id": "dangerous-pride"
      },
      "outputs": [],
      "source": [
        "plt.figure(figsize=(10, 5))\n",
        "sns.'_______' ## Complete the code to create boxplot for region of employment and prevailing wage\n",
        "plt.show()"
      ]
    },
    {
      "cell_type": "markdown",
      "id": "lesser-bacteria",
      "metadata": {
        "id": "lesser-bacteria"
      },
      "source": [
        "#### The US government has established a prevailing wage to protect local talent and foreign workers. Let's analyze the data and see if the visa status changes with the prevailing wage"
      ]
    },
    {
      "cell_type": "code",
      "execution_count": null,
      "id": "perfect-haiti",
      "metadata": {
        "id": "perfect-haiti"
      },
      "outputs": [],
      "source": [
        "distribution_plot_wrt_target('_______') ## Complete the code to find distribution of prevailing wage and case status"
      ]
    },
    {
      "cell_type": "markdown",
      "id": "suspected-asthma",
      "metadata": {
        "id": "suspected-asthma"
      },
      "source": [
        "#### The prevailing wage has different units (Hourly, Weekly, etc). Let's find out if it has any impact on visa applications getting certified."
      ]
    },
    {
      "cell_type": "code",
      "execution_count": null,
      "id": "impossible-aquatic",
      "metadata": {
        "id": "impossible-aquatic"
      },
      "outputs": [],
      "source": [
        "stacked_barplot('_______') ## Complete the code to plot stacked barplot for unit of wage and case status"
      ]
    },
    {
      "cell_type": "markdown",
      "id": "qBWlk20UBUAx",
      "metadata": {
        "id": "qBWlk20UBUAx"
      },
      "source": [
        "## Data Pre-processing"
      ]
    },
    {
      "cell_type": "markdown",
      "id": "allied-association",
      "metadata": {
        "id": "allied-association"
      },
      "source": [
        "### Outlier Check\n",
        "\n",
        "- Let's check for outliers in the data."
      ]
    },
    {
      "cell_type": "code",
      "execution_count": null,
      "id": "certified-complaint",
      "metadata": {
        "id": "certified-complaint"
      },
      "outputs": [],
      "source": [
        "# outlier detection using boxplot\n",
        "numeric_columns = data.select_dtypes(include=np.number).columns.tolist()\n",
        "\n",
        "\n",
        "plt.figure(figsize=(15, 12))\n",
        "\n",
        "for i, variable in enumerate(numeric_columns):\n",
        "    plt.subplot(4, 4, i + 1)\n",
        "    plt.boxplot(data[variable], whis=1.5)\n",
        "    plt.tight_layout()\n",
        "    plt.title(variable)\n",
        "\n",
        "plt.show()"
      ]
    },
    {
      "cell_type": "markdown",
      "id": "flexible-independence",
      "metadata": {
        "id": "flexible-independence"
      },
      "source": [
        "### Data Preparation for modeling\n",
        "\n",
        "- We want to predict which visa will be certified.\n",
        "- Before we proceed to build a model, we'll have to encode categorical features.\n",
        "- We'll split the data into train and test to be able to evaluate the model that we build on the train data."
      ]
    },
    {
      "cell_type": "code",
      "execution_count": null,
      "id": "genuine-evening",
      "metadata": {
        "id": "genuine-evening"
      },
      "outputs": [],
      "source": [
        "data[\"case_status\"] = data[\"case_status\"].apply(lambda x: 1 if x == \"Certified\" else 0)\n",
        "\n",
        "X = data._______ ## Complete the code to drop case status from the data\n",
        "y = data[\"case_status\"]\n",
        "\n",
        "\n",
        "X = pd._______  ## Complete the code to create dummies for X\n",
        "\n",
        "# Complete the code to split the dataset into train and valid with a ratio of 7:3\n",
        "X_train, X_val, y_train, y_val = train_test_split(\n",
        "    X, y, test_size=______, random_state=1, stratify=y\n",
        ")\n",
        "\n",
        "# # Complete the code to split the dataset into valid and test with a ratio of 9:1\n",
        "X_val,X_test,y_val,y_test = train_test_split(\n",
        "    X_val,y_val,test_size=_____,random_state=1,stratify=y_val\n",
        ")\n"
      ]
    },
    {
      "cell_type": "code",
      "execution_count": null,
      "id": "empty-typing",
      "metadata": {
        "id": "empty-typing"
      },
      "outputs": [],
      "source": [
        "print(\"Shape of Training set : \", X_train.shape)\n",
        "print(\"Shape of Validation set : \", X_val.shape)\n",
        "print(\"Shape of test set : \", X_test.shape)\n",
        "print(\"Percentage of classes in training set:\")\n",
        "print(y_train.value_counts(normalize=True))\n",
        "print(\"Percentage of classes in validation set:\")\n",
        "print(y_val.value_counts(normalize=True))\n",
        "print(\"Percentage of classes in test set:\")\n",
        "print(y_test.value_counts(normalize=True))"
      ]
    },
    {
      "cell_type": "markdown",
      "id": "dr7q6-dbfiQB",
      "metadata": {
        "id": "dr7q6-dbfiQB"
      },
      "source": [
        "## Model Building"
      ]
    },
    {
      "cell_type": "markdown",
      "id": "rrlw9AVcqk37",
      "metadata": {
        "id": "rrlw9AVcqk37"
      },
      "source": [
        "### Model Evaluation Criterion"
      ]
    },
    {
      "cell_type": "markdown",
      "id": "p-08ovKQIx0D",
      "metadata": {
        "id": "p-08ovKQIx0D"
      },
      "source": [
        "Provide some reasoning for choosing the metric here : ______"
      ]
    },
    {
      "cell_type": "markdown",
      "id": "capital-charlotte",
      "metadata": {
        "id": "capital-charlotte"
      },
      "source": [
        "First, let's create functions to calculate different metrics and confusion matrix so that we don't have to use the same code repeatedly for each model.\n",
        "* The model_performance_classification_sklearn function will be used to check the model performance of models.\n",
        "* The confusion_matrix_sklearn function will be used to plot the confusion matrix."
      ]
    },
    {
      "cell_type": "code",
      "execution_count": null,
      "id": "mexican-database",
      "metadata": {
        "id": "mexican-database"
      },
      "outputs": [],
      "source": [
        "# defining a function to compute different metrics to check performance of a classification model built using sklearn\n",
        "\n",
        "\n",
        "def model_performance_classification_sklearn(model, predictors, target):\n",
        "    \"\"\"\n",
        "    Function to compute different metrics to check classification model performance\n",
        "\n",
        "    model: classifier\n",
        "    predictors: independent variables\n",
        "    target: dependent variable\n",
        "    \"\"\"\n",
        "\n",
        "    # predicting using the independent variables\n",
        "    pred = model.predict(predictors)\n",
        "\n",
        "    acc = accuracy_score(target, pred)  # to compute Accuracy\n",
        "    recall = recall_score(target, pred)  # to compute Recall\n",
        "    precision = precision_score(target, pred)  # to compute Precision\n",
        "    f1 = f1_score(target, pred)  # to compute F1-score\n",
        "\n",
        "    # creating a dataframe of metrics\n",
        "    df_perf = pd.DataFrame(\n",
        "        {\"Accuracy\": acc, \"Recall\": recall, \"Precision\": precision, \"F1\": f1,},\n",
        "        index=[0],\n",
        "    )\n",
        "\n",
        "    return df_perf"
      ]
    },
    {
      "cell_type": "code",
      "execution_count": null,
      "id": "recreational-topic",
      "metadata": {
        "id": "recreational-topic"
      },
      "outputs": [],
      "source": [
        "def confusion_matrix_sklearn(model, predictors, target):\n",
        "    \"\"\"\n",
        "    To plot the confusion_matrix with percentages\n",
        "\n",
        "    model: classifier\n",
        "    predictors: independent variables\n",
        "    target: dependent variable\n",
        "    \"\"\"\n",
        "    y_pred = model.predict(predictors)\n",
        "    cm = confusion_matrix(target, y_pred)\n",
        "    labels = np.asarray(\n",
        "        [\n",
        "            [\"{0:0.0f}\".format(item) + \"\\n{0:.2%}\".format(item / cm.flatten().sum())]\n",
        "            for item in cm.flatten()\n",
        "        ]\n",
        "    ).reshape(2, 2)\n",
        "\n",
        "    plt.figure(figsize=(6, 4))\n",
        "    sns.heatmap(cm, annot=labels, fmt=\"\")\n",
        "    plt.ylabel(\"True label\")\n",
        "    plt.xlabel(\"Predicted label\")"
      ]
    },
    {
      "cell_type": "markdown",
      "id": "0QZZoxoDcoDm",
      "metadata": {
        "id": "0QZZoxoDcoDm"
      },
      "source": [
        "#### Defining scorer to be used for cross-validation and hyperparameter tuning"
      ]
    },
    {
      "cell_type": "code",
      "execution_count": null,
      "id": "fTqBmDuPm0hj",
      "metadata": {
        "id": "fTqBmDuPm0hj"
      },
      "outputs": [],
      "source": [
        "scorer = metrics.make_scorer(metrics._____) ## Complete the code to define the metric\n",
        "\n",
        "## Possible metrics are [recall_score,f1_score,accuracy_score,precision_score]\n",
        "## For example, metrics.precision_score"
      ]
    },
    {
      "cell_type": "markdown",
      "id": "XWoHuUpjbp0_",
      "metadata": {
        "id": "XWoHuUpjbp0_"
      },
      "source": [
        "**We are now done with pre-processing and evaluation criterion, so let's start building the model.**"
      ]
    },
    {
      "cell_type": "markdown",
      "id": "4fI98GOV0pTY",
      "metadata": {
        "id": "4fI98GOV0pTY"
      },
      "source": [
        "### Model building with original data"
      ]
    },
    {
      "cell_type": "code",
      "execution_count": null,
      "id": "-OTOG3o1bp0_",
      "metadata": {
        "id": "-OTOG3o1bp0_",
        "scrolled": true
      },
      "outputs": [],
      "source": [
        "models = []  # Empty list to store all the models\n",
        "\n",
        "# Appending models into the list\n",
        "models.append((\"Bagging\", BaggingClassifier(random_state=1)))\n",
        "models.append((\"Random forest\",'_____')) ## Complete the code to add Random Forest Classifier with random_state of 1.\n",
        "models.append((\"GBM\", '_____')) ## Complete the code to add Gradient Boosting Classifier with random_state of 1.\n",
        "models.append((\"Adaboost\", '_____')) ## Complete the code to add AdaBoost Classifier with random_state of 1.\n",
        "models.append((\"Xgboost\", XGBClassifier(random_state=1, eval_metric=\"logloss\")))\n",
        "models.append((\"dtree\", '_____')) ## Complete the code to add Decision Tree Classifier with random_state of 1.\n",
        "\n",
        "results1 = []  # Empty list to store all model's CV scores\n",
        "names = []  # Empty list to store name of the models\n",
        "\n",
        "\n",
        "# loop through all models to get the mean cross validated score\n",
        "print(\"\\n\" \"Cross-Validation performance on training dataset:\" \"\\n\")\n",
        "\n",
        "for name, model in models:\n",
        "    kfold = StratifiedKFold(\n",
        "        n_splits=_____, shuffle=True, random_state=1\n",
        "    )  # Complete the code to set the number of splits.\n",
        "    cv_result = cross_val_score(\n",
        "        estimator=model, X=X_train, y=y_train, scoring = scorer,cv=kfold\n",
        "    )\n",
        "    results1.append(cv_result)\n",
        "    names.append(name)\n",
        "    print(\"{}: {}\".format(name, cv_result.mean()))\n",
        "\n",
        "print(\"\\n\" \"Validation Performance:\" \"\\n\")\n",
        "\n",
        "for name, model in models:\n",
        "    model.fit(_____,_____) ## Complete the code to fit the model on X_train and y_train\n",
        "    scores = _____(y_val, model.predict(X_val)) ## Complete the code to define the metric function name.\n",
        "    print(\"{}: {}\".format(name, scores))"
      ]
    },
    {
      "cell_type": "code",
      "execution_count": null,
      "id": "Cm61fR_mbp0_",
      "metadata": {
        "id": "Cm61fR_mbp0_",
        "scrolled": false
      },
      "outputs": [],
      "source": [
        "# Plotting boxplots for CV scores of all models defined above\n",
        "fig = plt.figure(figsize=(10, 7))\n",
        "\n",
        "fig.suptitle(\"Algorithm Comparison\")\n",
        "ax = fig.add_subplot(111)\n",
        "\n",
        "plt.boxplot(results1)\n",
        "ax.set_xticklabels(names)\n",
        "\n",
        "plt.show()"
      ]
    },
    {
      "cell_type": "markdown",
      "id": "C91_6Swtbp1A",
      "metadata": {
        "id": "C91_6Swtbp1A"
      },
      "source": [
        "### Model Building with oversampled data"
      ]
    },
    {
      "cell_type": "code",
      "execution_count": null,
      "id": "o2dEk01hbp1A",
      "metadata": {
        "id": "o2dEk01hbp1A"
      },
      "outputs": [],
      "source": [
        "print(\"Before OverSampling, counts of label '1': {}\".format(sum(y_train == 1)))\n",
        "print(\"Before OverSampling, counts of label '0': {} \\n\".format(sum(y_train == 0)))\n",
        "\n",
        "# Synthetic Minority Over Sampling Technique\n",
        "sm = SMOTE(sampling_strategy=_____, k_neighbors=_____, random_state=1) ## Complete the code to set the k-nearest neighbors and sampling strategy\n",
        "X_train_over, y_train_over = sm.fit_resample(X_train, y_train)\n",
        "\n",
        "\n",
        "print(\"After OverSampling, counts of label '1': {}\".format(sum(y_train_over == 1)))\n",
        "print(\"After OverSampling, counts of label '0': {} \\n\".format(sum(y_train_over == 0)))\n",
        "\n",
        "\n",
        "print(\"After OverSampling, the shape of train_X: {}\".format(X_train_over.shape))\n",
        "print(\"After OverSampling, the shape of train_y: {} \\n\".format(y_train_over.shape))"
      ]
    },
    {
      "cell_type": "code",
      "execution_count": null,
      "id": "ZsOer36qbp1A",
      "metadata": {
        "id": "ZsOer36qbp1A"
      },
      "outputs": [],
      "source": [
        "models = []  # Empty list to store all the models\n",
        "\n",
        "# Appending models into the list\n",
        "models.append((\"Bagging\", BaggingClassifier(random_state=1)))\n",
        "models.append((\"Random forest\",'_____')) ## Complete the code to add Random Forest Classifier with random_state of 1.\n",
        "models.append((\"GBM\", '_____')) ## Complete the code to add Gradient Boosting Classifier with random_state of 1.\n",
        "models.append((\"Adaboost\", '_____')) ## Complete the code to add AdaBoost Classifier with random_state of 1.\n",
        "models.append((\"Xgboost\", XGBClassifier(random_state=1, eval_metric=\"logloss\")))\n",
        "models.append((\"dtree\", '_____')) ## Complete the code to add Decision Tree Classifier with random_state of 1.\n",
        "\n",
        "results1 = []  # Empty list to store all model's CV scores\n",
        "names = []  # Empty list to store name of the models\n",
        "\n",
        "\n",
        "# loop through all models to get the mean cross validated score\n",
        "print(\"\\n\" \"Cross-Validation performance on training dataset:\" \"\\n\")\n",
        "\n",
        "for name, model in models:\n",
        "    kfold = StratifiedKFold(\n",
        "        n_splits=_____, shuffle=True, random_state=1\n",
        "    )  ## Complete the code to set the number of splits\n",
        "    cv_result = cross_val_score(\n",
        "        estimator=model, X=X_train_over, y=y_train_over,scoring = scorer, cv=kfold\n",
        "    )\n",
        "    results1.append(cv_result)\n",
        "    names.append(name)\n",
        "    print(\"{}: {}\".format(name, cv_result.mean()))\n",
        "\n",
        "print(\"\\n\" \"Validation Performance:\" \"\\n\")\n",
        "\n",
        "for name, model in models:\n",
        "    model.fit(_____,_____) ## Complete the code to fit the model on the oversampled data.\n",
        "    scores = _____(y_val, model.predict(X_val)) ## Complete the code to define the metric function name.\n",
        "    print(\"{}: {}\".format(name, scores))"
      ]
    },
    {
      "cell_type": "code",
      "execution_count": null,
      "id": "kwUcBORjbp1A",
      "metadata": {
        "id": "kwUcBORjbp1A",
        "scrolled": false
      },
      "outputs": [],
      "source": [
        "# Plotting boxplots for CV scores of all models defined above\n",
        "fig = plt.figure(figsize=(10, 7))\n",
        "\n",
        "fig.suptitle(\"Algorithm Comparison\")\n",
        "ax = fig.add_subplot(111)\n",
        "\n",
        "plt.boxplot(results1)\n",
        "ax.set_xticklabels(names)\n",
        "\n",
        "plt.show()"
      ]
    },
    {
      "cell_type": "markdown",
      "id": "fYLfDmHvbp1B",
      "metadata": {
        "id": "fYLfDmHvbp1B"
      },
      "source": [
        "### Model Building with undersampled data"
      ]
    },
    {
      "cell_type": "code",
      "execution_count": null,
      "id": "PHM-5g8Qbp1B",
      "metadata": {
        "id": "PHM-5g8Qbp1B"
      },
      "outputs": [],
      "source": [
        "rus = RandomUnderSampler(random_state=1, sampling_strategy=1)\n",
        "X_train_un, y_train_un = rus.fit_resample(X_train, y_train)\n",
        "\n",
        "\n",
        "print(\"Before UnderSampling, counts of label '1': {}\".format(sum(y_train == 1)))\n",
        "print(\"Before UnderSampling, counts of label '0': {} \\n\".format(sum(y_train == 0)))\n",
        "\n",
        "\n",
        "print(\"After UnderSampling, counts of label '1': {}\".format(sum(y_train_un == 1)))\n",
        "print(\"After UnderSampling, counts of label '0': {} \\n\".format(sum(y_train_un == 0)))\n",
        "\n",
        "\n",
        "print(\"After UnderSampling, the shape of train_X: {}\".format(X_train_un.shape))\n",
        "print(\"After UnderSampling, the shape of train_y: {} \\n\".format(y_train_un.shape))"
      ]
    },
    {
      "cell_type": "code",
      "execution_count": null,
      "id": "Rc5ndPMubp1B",
      "metadata": {
        "id": "Rc5ndPMubp1B",
        "scrolled": true
      },
      "outputs": [],
      "source": [
        "models = []  # Empty list to store all the models\n",
        "\n",
        "# Appending models into the list\n",
        "models.append((\"Bagging\", BaggingClassifier(random_state=1)))\n",
        "models.append((\"Random forest\",'_____')) ## Complete the code to add Random Forest Classifier with random_state of 1.\n",
        "models.append((\"GBM\", '_____')) ## Complete the code to add Gradient Boosting Classifier with random_state of 1.\n",
        "models.append((\"Adaboost\", '_____')) ## Complete the code to add AdaBoost Classifier with random_state of 1.\n",
        "models.append((\"Xgboost\", XGBClassifier(random_state=1, eval_metric=\"logloss\")))\n",
        "models.append((\"dtree\", '_____')) ## Complete the code to add Decision Tree Classifier with random_state of 1.\n",
        "\n",
        "results1 = []  # Empty list to store all model's CV scores\n",
        "names = []  # Empty list to store name of the models\n",
        "\n",
        "\n",
        "# loop through all models to get the mean cross validated score\n",
        "print(\"\\n\" \"Cross-Validation performance on training dataset:\" \"\\n\")\n",
        "\n",
        "for name, model in models:\n",
        "    kfold = StratifiedKFold(\n",
        "        n_splits=_____, shuffle=True, random_state=1\n",
        "    )  ## Complete the code to set the number of splits\n",
        "    cv_result = cross_val_score(\n",
        "        estimator=model, X=X_train_un, y=y_train_un,scoring = scorer, cv=kfold,n_jobs =-1\n",
        "    )\n",
        "    results1.append(cv_result)\n",
        "    names.append(name)\n",
        "    print(\"{}: {}\".format(name, cv_result.mean()))\n",
        "\n",
        "print(\"\\n\" \"Validation Performance:\" \"\\n\")\n",
        "\n",
        "for name, model in models:\n",
        "    model.fit(_____,_____) ## Complete the code to fit the model on the undersampled data.\n",
        "    scores = _____(y_val, model.predict(X_val)) ## Complete the code to define the metric function name.\n",
        "    print(\"{}: {}\".format(name, scores))"
      ]
    },
    {
      "cell_type": "code",
      "execution_count": null,
      "id": "8HcDqaD2bp1B",
      "metadata": {
        "id": "8HcDqaD2bp1B",
        "scrolled": false
      },
      "outputs": [],
      "source": [
        "# Plotting boxplots for CV scores of all models defined above\n",
        "fig = plt.figure(figsize=(10, 7))\n",
        "\n",
        "fig.suptitle(\"Algorithm Comparison\")\n",
        "ax = fig.add_subplot(111)\n",
        "\n",
        "plt.boxplot(results1)\n",
        "ax.set_xticklabels(names)\n",
        "\n",
        "plt.show()"
      ]
    },
    {
      "cell_type": "markdown",
      "id": "Cg_OREBD1NOy",
      "metadata": {
        "id": "Cg_OREBD1NOy"
      },
      "source": [
        "## Hyperparameter Tuning"
      ]
    },
    {
      "cell_type": "markdown",
      "id": "2FtmPS7Ubp1D",
      "metadata": {
        "id": "2FtmPS7Ubp1D"
      },
      "source": [
        "### Tuning AdaBoost using oversampled data"
      ]
    },
    {
      "cell_type": "code",
      "execution_count": null,
      "id": "IPSlOlvkbp1D",
      "metadata": {
        "id": "IPSlOlvkbp1D"
      },
      "outputs": [],
      "source": [
        "%%time\n",
        "\n",
        "# defining model\n",
        "Model = AdaBoostClassifier(random_state=1)\n",
        "\n",
        "# Parameter grid to pass in RandomSearchCV\n",
        "param_grid = {\n",
        "    \"n_estimators\": [_____], ## Complete the code to set the number of estimators\n",
        "    \"learning_rate\": [_____], ## Complete the code to set the learning rate.\n",
        "    \"estimator\": [DecisionTreeClassifier(max_depth=1, random_state=1), DecisionTreeClassifier(max_depth=2, random_state=1), DecisionTreeClassifier(max_depth=3, random_state=1),\n",
        "    ]\n",
        "}\n",
        "\n",
        "\n",
        "#Calling RandomizedSearchCV\n",
        "randomized_cv = RandomizedSearchCV(estimator=Model, param_distributions=param_grid, n_iter=50, n_jobs = -1, scoring=scorer, cv=_____, random_state=1)  ## Complete the code to set the cv parameter\n",
        "\n",
        "#Fitting parameters in RandomizedSearchCV\n",
        "randomized_cv.fit(_____,_____) ## Complete the code to fit the model on over sampled data\n",
        "\n",
        "print(\"Best parameters are {} with CV score={}:\" .format(randomized_cv.best_params_,randomized_cv.best_score_))"
      ]
    },
    {
      "cell_type": "code",
      "execution_count": null,
      "id": "xhrOotEVFuN8",
      "metadata": {
        "id": "xhrOotEVFuN8"
      },
      "outputs": [],
      "source": [
        "## Complete the code to set the best parameters.\n",
        "tuned_ada = AdaBoostClassifier(\n",
        "    n_estimators= _____, learning_rate= _____, estimator= DecisionTreeClassifier(max_depth=_____, random_state=1)\n",
        ")\n",
        "\n",
        "tuned_ada.fit(X_train_over, y_train_over)"
      ]
    },
    {
      "cell_type": "code",
      "execution_count": null,
      "id": "kGRRtFcsFxZD",
      "metadata": {
        "id": "kGRRtFcsFxZD"
      },
      "outputs": [],
      "source": [
        "ada_train_perf = model_performance_classification_sklearn(tuned_ada, X_train_over, y_train_over)\n",
        "ada_train_perf"
      ]
    },
    {
      "cell_type": "code",
      "execution_count": null,
      "id": "10_dV5m4bp1D",
      "metadata": {
        "id": "10_dV5m4bp1D"
      },
      "outputs": [],
      "source": [
        "## Complete the code to check the model performance for validation data.\n",
        "ada_val_perf = model_performance_classification_sklearn(tuned_ada,_____,_____)\n",
        "ada_val_perf"
      ]
    },
    {
      "cell_type": "markdown",
      "id": "Dqj6dc38bp1E",
      "metadata": {
        "id": "Dqj6dc38bp1E"
      },
      "source": [
        "### Tuning Random forest using undersampled data"
      ]
    },
    {
      "cell_type": "code",
      "execution_count": null,
      "id": "9tLNoDYhbp1E",
      "metadata": {
        "id": "9tLNoDYhbp1E"
      },
      "outputs": [],
      "source": [
        "%%time\n",
        "\n",
        "# defining model\n",
        "Model = RandomForestClassifier(random_state=1)\n",
        "\n",
        "# Parameter grid to pass in RandomSearchCV\n",
        "param_grid = {\n",
        "    \"n_estimators\": [_____], ## Complete the code to set the number of estimators.\n",
        "    \"min_samples_leaf\": np.arange(_____,_____), ## Complete the code to set the minimum number of samples in the leaf node.\n",
        "    \"max_features\": [np.arange(_____,_____,_____),'sqrt'], ## Complete the code to set the maximum number of features.\n",
        "    \"max_samples\": np.arange(_____,_____,_____)} ## Complete the code to set the maximum number of samples.\n",
        "\n",
        "\n",
        "#Calling RandomizedSearchCV\n",
        "randomized_cv = RandomizedSearchCV(estimator=Model, param_distributions=param_grid, n_iter=50, n_jobs = -1, scoring=scorer, cv=_____, random_state=1) ## Complete the code to set the cv parameter\n",
        "\n",
        "#Fitting parameters in RandomizedSearchCV\n",
        "randomized_cv.fit(_____,_____) ## Complete the code to fit the model on under sampled data\n",
        "\n",
        "print(\"Best parameters are {} with CV score={}:\" .format(randomized_cv.best_params_,randomized_cv.best_score_))"
      ]
    },
    {
      "cell_type": "code",
      "execution_count": null,
      "id": "5kmoh9KMbp1E",
      "metadata": {
        "id": "5kmoh9KMbp1E"
      },
      "outputs": [],
      "source": [
        "# Complete the code to define the best model\n",
        "tuned_rf2 = RandomForestClassifier(\n",
        "    max_features=_____,\n",
        "    random_state=_____,\n",
        "    max_samples=_____,\n",
        "    n_estimators=_____,\n",
        "    min_samples_leaf=_____,\n",
        ")\n",
        "\n",
        "tuned_rf2.fit(X_train_un, y_train_un)"
      ]
    },
    {
      "cell_type": "code",
      "execution_count": null,
      "id": "bAAD5mzybp1E",
      "metadata": {
        "id": "bAAD5mzybp1E"
      },
      "outputs": [],
      "source": [
        "rf2_train_perf = model_performance_classification_sklearn(\n",
        "    tuned_rf2, X_train_un, y_train_un\n",
        ")\n",
        "rf2_train_perf"
      ]
    },
    {
      "cell_type": "code",
      "execution_count": null,
      "id": "WTtYpzO-bp1E",
      "metadata": {
        "id": "WTtYpzO-bp1E",
        "scrolled": true
      },
      "outputs": [],
      "source": [
        "## Complete the code to print the model performance on the validation data.\n",
        "rf2_val_perf = model_performance_classification_sklearn(tuned_rf2,_____,_____)\n",
        "rf2_val_perf"
      ]
    },
    {
      "cell_type": "markdown",
      "id": "0uLE_tPV2Roq",
      "metadata": {
        "id": "0uLE_tPV2Roq"
      },
      "source": [
        "### Tuning with Gradient boosting with oversampled data"
      ]
    },
    {
      "cell_type": "code",
      "execution_count": null,
      "id": "ikBgsbjn2RHu",
      "metadata": {
        "id": "ikBgsbjn2RHu"
      },
      "outputs": [],
      "source": [
        "%%time\n",
        "\n",
        "# defining model\n",
        "Model = GradientBoostingClassifier(random_state=1)\n",
        "\n",
        "## Complete the code to define the hyper parameters.\n",
        "param_grid={\"n_estimators\": np.arange(_____,_____,_____), \"learning_rate\": [_____], \"subsample\":[_____,_____], \"max_features\":[_____,_____]}\n",
        "\n",
        "## Complete the code to set the cv parameter.\n",
        "randomized_cv = RandomizedSearchCV(estimator=Model, param_distributions=param_grid, scoring=scorer, n_iter=50, n_jobs = -1, cv=_____, random_state=1)\n",
        "\n",
        "#Fitting parameters in RandomizedSearchCV\n",
        "randomized_cv.fit(X_train_over, y_train_over)\n",
        "\n",
        "print(\"Best parameters are {} with CV score={}:\" .format(randomized_cv.best_params_,randomized_cv.best_score_))"
      ]
    },
    {
      "cell_type": "code",
      "execution_count": null,
      "id": "o0sxrmnx2Q9S",
      "metadata": {
        "id": "o0sxrmnx2Q9S"
      },
      "outputs": [],
      "source": [
        "## Complete the code to define the best model.\n",
        "tuned_gbm = GradientBoostingClassifier(\n",
        "    max_features=_____,\n",
        "    random_state=_____,\n",
        "    learning_rate=_____,\n",
        "    n_estimators=_____,\n",
        "    subsample=_____\n",
        ")\n",
        "\n",
        "tuned_gbm.fit(X_train_over, y_train_over)"
      ]
    },
    {
      "cell_type": "code",
      "execution_count": null,
      "id": "fXkAXXum2Q0-",
      "metadata": {
        "id": "fXkAXXum2Q0-"
      },
      "outputs": [],
      "source": [
        "gbm_train_perf = model_performance_classification_sklearn(\n",
        "    tuned_gbm, X_train_over, y_train_over\n",
        ")\n",
        "gbm_train_perf"
      ]
    },
    {
      "cell_type": "code",
      "execution_count": null,
      "id": "ZF3y7Jl12Qi-",
      "metadata": {
        "id": "ZF3y7Jl12Qi-"
      },
      "outputs": [],
      "source": [
        "## Complete the code to print the model performance on the validation data.\n",
        "gbm_val_perf = model_performance_classification_sklearn(tuned_gbm,_____,_____)\n",
        "gbm_val_perf"
      ]
    },
    {
      "cell_type": "markdown",
      "id": "VbrQHwrKbp1C",
      "metadata": {
        "id": "VbrQHwrKbp1C"
      },
      "source": [
        "### Tuning XGBoost using oversampled data"
      ]
    },
    {
      "cell_type": "code",
      "execution_count": null,
      "id": "ec8e6iVzbp1C",
      "metadata": {
        "id": "ec8e6iVzbp1C"
      },
      "outputs": [],
      "source": [
        "%%time\n",
        "\n",
        "# defining model\n",
        "Model = XGBClassifier(random_state=1,eval_metric='logloss')\n",
        "\n",
        "## Complete the code to define the hyperparameters\n",
        "param_grid={'n_estimators':[_____],'scale_pos_weight':[_____], 'learning_rate':[_____], 'gamma':[_____], 'subsample':[_____]}\n",
        "\n",
        "## Complete the code to set the cv parameter\n",
        "randomized_cv = RandomizedSearchCV(estimator=Model, param_distributions=param_grid, n_iter=50, n_jobs = -1, scoring=scorer, cv=_____, random_state=1)\n",
        "\n",
        "#Fitting parameters in RandomizedSearchCV\n",
        "randomized_cv.fit(X_train_over,y_train_over)## Complete the code to fit the model on over sampled data\n",
        "\n",
        "print(\"Best parameters are {} with CV score={}:\" .format(randomized_cv.best_params_,randomized_cv.best_score_))"
      ]
    },
    {
      "cell_type": "code",
      "execution_count": null,
      "id": "NSio3khJbp1C",
      "metadata": {
        "id": "NSio3khJbp1C",
        "scrolled": true
      },
      "outputs": [],
      "source": [
        "## Complete the code to define the best model\n",
        "xgb2 = XGBClassifier(\n",
        "    random_state=1,\n",
        "    eval_metric=_____,\n",
        "    subsample=_____,\n",
        "    scale_pos_weight=_____,\n",
        "    n_estimators=_____,\n",
        "    learning_rate=_____,\n",
        "    gamma=_____,\n",
        ")\n",
        "\n",
        "xgb2.fit(X_train_over, y_train_over)"
      ]
    },
    {
      "cell_type": "code",
      "execution_count": null,
      "id": "hDzHR8Pwbp1D",
      "metadata": {
        "id": "hDzHR8Pwbp1D"
      },
      "outputs": [],
      "source": [
        "xgb2_train_perf = model_performance_classification_sklearn(\n",
        "    xgb2, X_train_over, y_train_over\n",
        ")\n",
        "xgb2_train_perf"
      ]
    },
    {
      "cell_type": "code",
      "execution_count": null,
      "id": "jiDRsOrMbp1D",
      "metadata": {
        "id": "jiDRsOrMbp1D",
        "scrolled": false
      },
      "outputs": [],
      "source": [
        "## Complete the code to print the model performance on the validation data.\n",
        "xgb2_val_perf = model_performance_classification_sklearn(xgb2,_____,_____)\n",
        "xgb2_val_perf"
      ]
    },
    {
      "cell_type": "markdown",
      "id": "4fyp5xd91Z-W",
      "metadata": {
        "id": "4fyp5xd91Z-W"
      },
      "source": [
        "**We have now tuned all the models, let's compare the performance of all tuned models and see which one is the best.**"
      ]
    },
    {
      "cell_type": "markdown",
      "id": "D9JNnpxa4jau",
      "metadata": {
        "id": "D9JNnpxa4jau"
      },
      "source": [
        "## Model performance comparison and choosing the final model"
      ]
    },
    {
      "cell_type": "code",
      "execution_count": null,
      "id": "TF1WfZZHbp1E",
      "metadata": {
        "id": "TF1WfZZHbp1E"
      },
      "outputs": [],
      "source": [
        "# training performance comparison\n",
        "\n",
        "models_train_comp_df = pd.concat(\n",
        "    [\n",
        "        gbm_train_perf.T,\n",
        "        xgb2_train_perf.T,\n",
        "        ada_train_perf.T,\n",
        "        rf2_train_perf.T,\n",
        "    ],\n",
        "    axis=1,\n",
        ")\n",
        "models_train_comp_df.columns = [\n",
        "    \"Gradient Boosting tuned with oversampled data\",\n",
        "    \"XGBoost tuned with oversampled data\",\n",
        "    \"AdaBoost tuned with oversampled data\",\n",
        "    \"Random forest tuned with undersampled data\",\n",
        "]\n",
        "print(\"Training performance comparison:\")\n",
        "models_train_comp_df"
      ]
    },
    {
      "cell_type": "code",
      "execution_count": null,
      "id": "0FgTXpsXbp1F",
      "metadata": {
        "id": "0FgTXpsXbp1F"
      },
      "outputs": [],
      "source": [
        "# validation performance comparison\n",
        "\n",
        "models_val_comp_df = pd.concat(\n",
        "    [\n",
        "        gbm_val_perf.T,\n",
        "        xgb2_val_perf.T,\n",
        "        ada_val_perf.T,\n",
        "        rf2_val_perf.T,\n",
        "    ],\n",
        "    axis=1,\n",
        ")\n",
        "models_val_comp_df.columns = [\n",
        "    \"Gradient Boosting tuned with oversampled data\",\n",
        "    \"XGBoost tuned with oversampled data\",\n",
        "    \"AdaBoost tuned with oversampled data\",\n",
        "    \"Random forest tuned with undersampled data\",\n",
        "]\n",
        "print(\"Validation performance comparison:\")\n",
        "models_val_comp_df"
      ]
    },
    {
      "cell_type": "code",
      "execution_count": null,
      "id": "qrWw_SWBkJtV",
      "metadata": {
        "id": "qrWw_SWBkJtV"
      },
      "outputs": [],
      "source": [
        "## Complete the code to print the model performance on the test data by the best model.\n",
        "test = model_performance_classification_sklearn(_____, X_test, y_test)\n",
        "test"
      ]
    },
    {
      "cell_type": "code",
      "execution_count": null,
      "id": "tlY4dfMuVBUz",
      "metadata": {
        "id": "tlY4dfMuVBUz"
      },
      "outputs": [],
      "source": [
        "feature_names = X_train.columns\n",
        "importances = _____.feature_importances_ ## Complete the code to print the feature importances from the best model.\n",
        "indices = np.argsort(importances)\n",
        "\n",
        "plt.figure(figsize=(12, 12))\n",
        "plt.title(\"Feature Importances\")\n",
        "plt.barh(range(len(indices)), importances[indices], color=\"violet\", align=\"center\")\n",
        "plt.yticks(range(len(indices)), [feature_names[i] for i in indices])\n",
        "plt.xlabel(\"Relative Importance\")\n",
        "plt.show()"
      ]
    },
    {
      "cell_type": "markdown",
      "id": "congressional-knock",
      "metadata": {
        "id": "congressional-knock"
      },
      "source": [
        "## Actionable Insights and Recommendations"
      ]
    },
    {
      "cell_type": "markdown",
      "id": "Y2HdXLmSJi8K",
      "metadata": {
        "id": "Y2HdXLmSJi8K"
      },
      "source": [
        "<font size=6 color='blue'>Power Ahead</font>\n",
        "___"
      ]
    }
  ],
  "metadata": {
    "colab": {
      "collapsed_sections": [
        "yZvo8CHcetWN",
        "empty-shanghai",
        "3CWyKzKYAfEp",
        "LpNqj6EzAhxy",
        "Lm7obbsV_RUT",
        "thorough-passion",
        "mq-1s9p-_aKl",
        "aboriginal-wrist",
        "accessory-camel",
        "assigned-berkeley",
        "standing-horizontal",
        "american-venue",
        "competent-timing",
        "cutting-bookmark",
        "wooden-christian",
        "editorial-command",
        "attempted-burlington",
        "forbidden-kidney",
        "stunning-surrey",
        "equivalent-aging",
        "dressed-excuse",
        "attended-current",
        "macro-decrease",
        "changing-kansas",
        "lesser-bacteria",
        "suspected-asthma",
        "qBWlk20UBUAx",
        "allied-association",
        "flexible-independence",
        "rrlw9AVcqk37",
        "0QZZoxoDcoDm",
        "4fI98GOV0pTY",
        "C91_6Swtbp1A",
        "fYLfDmHvbp1B",
        "Cg_OREBD1NOy",
        "2FtmPS7Ubp1D",
        "Dqj6dc38bp1E",
        "0uLE_tPV2Roq",
        "VbrQHwrKbp1C",
        "D9JNnpxa4jau",
        "congressional-knock"
      ],
      "provenance": [],
      "toc_visible": true
    },
    "kernelspec": {
      "display_name": "Python 3",
      "name": "python3"
    },
    "language_info": {
      "codemirror_mode": {
        "name": "ipython",
        "version": 3
      },
      "file_extension": ".py",
      "mimetype": "text/x-python",
      "name": "python",
      "nbconvert_exporter": "python",
      "pygments_lexer": "ipython3",
      "version": "3.8.8"
    }
  },
  "nbformat": 4,
  "nbformat_minor": 5
}